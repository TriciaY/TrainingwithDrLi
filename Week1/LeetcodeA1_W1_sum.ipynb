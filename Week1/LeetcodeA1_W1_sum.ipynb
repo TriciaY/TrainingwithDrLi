{
 "cells": [
  {
   "cell_type": "markdown",
   "metadata": {},
   "source": [
    "**1. two_sum**\n",
    "\n",
    "Given an array of integers nums and an integer target, return indices of the two numbers such that they add up to target.\n",
    "\n",
    "You may assume that each input would have exactly one solution, and you may not use the same element twice.\n",
    "\n",
    "You can return the answer in any order."
   ]
  },
  {
   "cell_type": "code",
   "execution_count": 14,
   "metadata": {},
   "outputs": [
    {
     "name": "stdout",
     "output_type": "stream",
     "text": [
      "[0, 1]\n"
     ]
    }
   ],
   "source": [
    "#brute-force search\n",
    "def twoSum(target,nums=[]):\n",
    "    for i in range(len(nums)):\n",
    "        for j in range(i+1, len(nums)):\n",
    "            if nums[i] + nums[j] == target:\n",
    "                return [i, j]\n",
    "\n",
    "print(twoSum(9,[2,7, 11, 15]))"
   ]
  },
  {
   "cell_type": "code",
   "execution_count": 15,
   "metadata": {},
   "outputs": [
    {
     "data": {
      "text/plain": [
       "[3, 4]"
      ]
     },
     "execution_count": 15,
     "metadata": {},
     "output_type": "execute_result"
    }
   ],
   "source": [
    "# dictionary\n",
    "class Solution():\n",
    "    def twoSum(self, nums, target):\n",
    "        dt = {}\n",
    "        for i, val in enumerate(nums):\n",
    "            diff = target - val\n",
    "            if diff in dt:\n",
    "                return [dt[diff],i]\n",
    "            else:\n",
    "                dt[val] = i\n",
    "\n",
    "nums_list = [3,8,9,13,11,12]\n",
    "try1 = Solution()\n",
    "try1.twoSum(nums_list, 24)"
   ]
  },
  {
   "cell_type": "markdown",
   "metadata": {},
   "source": [
    "**2. 3_sum**\n",
    "\n",
    "Given an integer array nums, return all the triplets [nums[i], nums[j], nums[k]] such that i != j, i != k, and j != k, and nums[i] + nums[j] + nums[k] == 0.\n",
    "\n",
    "Notice that the solution set must not contain duplicate triplets."
   ]
  },
  {
   "cell_type": "code",
   "execution_count": 16,
   "metadata": {},
   "outputs": [
    {
     "data": {
      "text/plain": [
       "[[-1, -1, 2], [-1, 0, 1]]"
      ]
     },
     "execution_count": 16,
     "metadata": {},
     "output_type": "execute_result"
    }
   ],
   "source": [
    "class Solution():\n",
    "    def threeSum1(self, nums):\n",
    "        nums.sort() #sort the list first\n",
    "        \n",
    "        #invalid input: less than 3 numbers; or values are all negative or all positive\n",
    "        if len(nums) < 2 or nums[-1] < 0 or nums[0] > 0 : \n",
    "            return []\n",
    "        \n",
    "        triplets = []\n",
    "    \n",
    "        for i in range(len(nums)-2):\n",
    "            if i==0 and nums[i] > nums[i-1]:\n",
    "                continue\n",
    "            if i>0 and nums[i] == nums[i-1]:\n",
    "                continue\n",
    "            nextPoint = i+1\n",
    "            lastPoint = len(nums)-1\n",
    "            while nextPoint < lastPoint:\n",
    "                sum = nums[i] + nums[nextPoint] + nums[lastPoint]\n",
    "                if sum == 0:\n",
    "                    triplets.append([nums[i], nums[nextPoint], nums[lastPoint]])\n",
    "                    nextPoint += 1\n",
    "                    lastPoint -= 1\n",
    "                    #escape duplicate triplets\n",
    "                    while nextPoint < lastPoint and nums[nextPoint] == nums[nextPoint-1]:    \n",
    "                        nextPoint += 1\n",
    "                    while nextPoint < lastPoint and nums[lastPoint] == nums[lastPoint+1]:\n",
    "                        lastPoint -= 1\n",
    "                elif sum < 0:\n",
    "                    nextPoint += 1\n",
    "                else:\n",
    "                    lastPoint -= 1\n",
    "        return triplets\n",
    "     \n",
    "try1 = Solution()\n",
    "try1.threeSum1([-1,0,1,2,-1,-4])"
   ]
  },
  {
   "cell_type": "code",
   "execution_count": 17,
   "metadata": {},
   "outputs": [
    {
     "name": "stdout",
     "output_type": "stream",
     "text": [
      "[[-1, 0, 1], [-1, -1, 2]]\n",
      "[[-3, 0, 3], [-3, -2, 5], [-2, 0, 2], [-2, -1, 3]]\n"
     ]
    }
   ],
   "source": [
    "class Solution():\n",
    "    def threeSum2(self, nums):\n",
    "        nums.sort() #sort the list first\n",
    "        \n",
    "        #invalid input: less than 3 numbers; or values are all negative or all positive\n",
    "        if len(nums) < 2 or nums[-1] < 0 or nums[0] > 0 : \n",
    "            return []\n",
    "        \n",
    "        triplets = []\n",
    "    \n",
    "        for i in range(len(nums)-2):\n",
    "            if i==0 and nums[i] > nums[i-1]:\n",
    "                continue\n",
    "            if i>0 and nums[i] == nums[i-1]:\n",
    "                continue\n",
    "            nextPoint = i+1 \n",
    "            dt = {}\n",
    "            dt2 = {}\n",
    "            while nextPoint != len(nums):\n",
    "                nextN = nums[nextPoint]\n",
    "                neg = 0 - nums[i] - nextN\n",
    "                if nextN in dt and (nums[i],nextN) not in dt2:\n",
    "                    triplets.append([nums[i], dt[nextN], nextN])\n",
    "                    dt2[(nums[i],nextN)] = True\n",
    "                elif neg not in dt:\n",
    "                    dt[neg] = nextN\n",
    "                nextPoint += 1\n",
    "            i += 1\n",
    "        return triplets \n",
    "tryD = Solution()\n",
    "print(tryD.threeSum2([-1,0,1,2,-1,-4]))\n",
    "print(tryD.threeSum2([-3,-2,-1, 0, 2, 5, 3]))"
   ]
  },
  {
   "cell_type": "markdown",
   "metadata": {},
   "source": [
    "**3. 4_sum**\n",
    "\n",
    "Given an array nums of n integers, return an array of all the unique quadruplets [nums[a], nums[b], nums[c], nums[d]] such that:\n",
    "\n",
    "0 <= a, b, c, d < n; a, b, c, and d are distinct.\n",
    "\n",
    "nums[a] + nums[b] + nums[c] + nums[d] == target\n",
    "\n",
    "You may return the answer in any order."
   ]
  },
  {
   "cell_type": "code",
   "execution_count": 18,
   "metadata": {},
   "outputs": [
    {
     "name": "stdout",
     "output_type": "stream",
     "text": [
      "[[-2, -1, 1, 2], [-2, 0, 0, 2], [-1, 0, 0, 1]]\n",
      "[[2, 2, 2, 2]]\n"
     ]
    }
   ],
   "source": [
    "class Solution1(object):\n",
    "    def fourSum(self, nums, target):\n",
    "        result = []\n",
    "        nums.sort()\n",
    "        for i in range(0, len(nums)-3):\n",
    "            for j in range(i + 1, len(nums)-2):\n",
    "                nextP = j + 1\n",
    "                lastP = len(nums) -1\n",
    "                while nextP != lastP:\n",
    "                    sum = nums[i] + nums[j] + nums[nextP] + nums[lastP]\n",
    "                    if sum == target:\n",
    "                        temp = [nums[i],nums[j],nums[nextP],nums[lastP]]\n",
    "                        if temp not in result:\n",
    "                            result.append(temp)\n",
    "                        nextP += 1\n",
    "                    elif sum > target:\n",
    "                        lastP -= 1\n",
    "                    else:\n",
    "                        nextP += 1\n",
    "        return result\n",
    "nums_list = [1,0,-1,0,-2,2]\n",
    "try1 = Solution1()\n",
    "print(try1.fourSum(nums_list, 0))\n",
    "nums_list2 = [2,2,2,2]\n",
    "try2 = Solution1()\n",
    "print(try2.fourSum(nums_list2, 8))"
   ]
  },
  {
   "cell_type": "code",
   "execution_count": null,
   "metadata": {},
   "outputs": [],
   "source": []
  },
  {
   "cell_type": "code",
   "execution_count": null,
   "metadata": {},
   "outputs": [],
   "source": []
  }
 ],
 "metadata": {
  "kernelspec": {
   "display_name": "Python 3",
   "language": "python",
   "name": "python3"
  },
  "language_info": {
   "codemirror_mode": {
    "name": "ipython",
    "version": 3
   },
   "file_extension": ".py",
   "mimetype": "text/x-python",
   "name": "python",
   "nbconvert_exporter": "python",
   "pygments_lexer": "ipython3",
   "version": "3.7.4"
  }
 },
 "nbformat": 4,
 "nbformat_minor": 2
}
