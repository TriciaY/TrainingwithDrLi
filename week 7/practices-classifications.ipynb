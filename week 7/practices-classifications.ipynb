{
 "cells": [
  {
   "cell_type": "markdown",
   "id": "4a9fb937",
   "metadata": {},
   "source": [
    "## Classification Practice: fruit types:\n",
    "\n"
   ]
  },
  {
   "cell_type": "markdown",
   "id": "96bdf900",
   "metadata": {},
   "source": [
    "https://www.edureka.co/blog/classification-in-machine-learning/ :How To Implement Classification In Machine Learning?\n",
    "\n",
    "https://zhuanlan.zhihu.com/p/82114104: 一文读懂机器学习分类算法（简单版）\n"
   ]
  },
  {
   "cell_type": "code",
   "execution_count": 1,
   "id": "017db411",
   "metadata": {},
   "outputs": [],
   "source": [
    "import pandas as pd\n",
    "import numpy as np\n",
    "import seaborn as sns\n",
    "import matplotlib.pyplot as plt\n",
    "\n",
    "from matplotlib import cm\n",
    "%matplotlib inline\n",
    "\n",
    "from IPython.core.interactiveshell import InteractiveShell\n",
    "InteractiveShell.ast_node_interactivity = \"all\""
   ]
  },
  {
   "cell_type": "code",
   "execution_count": 2,
   "id": "d3c13aff",
   "metadata": {},
   "outputs": [
    {
     "name": "stdout",
     "output_type": "stream",
     "text": [
      "<class 'pandas.core.frame.DataFrame'>\n",
      "RangeIndex: 59 entries, 0 to 58\n",
      "Data columns (total 7 columns):\n",
      " #   Column         Non-Null Count  Dtype  \n",
      "---  ------         --------------  -----  \n",
      " 0   fruit_label    59 non-null     int64  \n",
      " 1   fruit_name     59 non-null     object \n",
      " 2   fruit_subtype  59 non-null     object \n",
      " 3   mass           59 non-null     int64  \n",
      " 4   width          59 non-null     float64\n",
      " 5   height         59 non-null     float64\n",
      " 6   color_score    59 non-null     float64\n",
      "dtypes: float64(3), int64(2), object(2)\n",
      "memory usage: 3.4+ KB\n"
     ]
    }
   ],
   "source": [
    "fruits = pd.read_table('fruit.txt')\n",
    "fruits.info()"
   ]
  },
  {
   "cell_type": "code",
   "execution_count": 3,
   "id": "ad59e628",
   "metadata": {},
   "outputs": [
    {
     "data": {
      "text/plain": [
       "fruit_label      False\n",
       "fruit_name       False\n",
       "fruit_subtype    False\n",
       "mass             False\n",
       "width            False\n",
       "height           False\n",
       "color_score      False\n",
       "dtype: bool"
      ]
     },
     "execution_count": 3,
     "metadata": {},
     "output_type": "execute_result"
    }
   ],
   "source": [
    "fruits.isnull().any()"
   ]
  },
  {
   "cell_type": "code",
   "execution_count": 4,
   "id": "65ec1d60",
   "metadata": {},
   "outputs": [
    {
     "data": {
      "text/html": [
       "<div>\n",
       "<style scoped>\n",
       "    .dataframe tbody tr th:only-of-type {\n",
       "        vertical-align: middle;\n",
       "    }\n",
       "\n",
       "    .dataframe tbody tr th {\n",
       "        vertical-align: top;\n",
       "    }\n",
       "\n",
       "    .dataframe thead th {\n",
       "        text-align: right;\n",
       "    }\n",
       "</style>\n",
       "<table border=\"1\" class=\"dataframe\">\n",
       "  <thead>\n",
       "    <tr style=\"text-align: right;\">\n",
       "      <th></th>\n",
       "      <th>fruit_label</th>\n",
       "      <th>fruit_name</th>\n",
       "      <th>fruit_subtype</th>\n",
       "      <th>mass</th>\n",
       "      <th>width</th>\n",
       "      <th>height</th>\n",
       "      <th>color_score</th>\n",
       "    </tr>\n",
       "  </thead>\n",
       "  <tbody>\n",
       "    <tr>\n",
       "      <th>0</th>\n",
       "      <td>1</td>\n",
       "      <td>apple</td>\n",
       "      <td>granny_smith</td>\n",
       "      <td>192</td>\n",
       "      <td>8.4</td>\n",
       "      <td>7.3</td>\n",
       "      <td>0.55</td>\n",
       "    </tr>\n",
       "    <tr>\n",
       "      <th>1</th>\n",
       "      <td>1</td>\n",
       "      <td>apple</td>\n",
       "      <td>granny_smith</td>\n",
       "      <td>180</td>\n",
       "      <td>8.0</td>\n",
       "      <td>6.8</td>\n",
       "      <td>0.59</td>\n",
       "    </tr>\n",
       "    <tr>\n",
       "      <th>2</th>\n",
       "      <td>1</td>\n",
       "      <td>apple</td>\n",
       "      <td>granny_smith</td>\n",
       "      <td>176</td>\n",
       "      <td>7.4</td>\n",
       "      <td>7.2</td>\n",
       "      <td>0.60</td>\n",
       "    </tr>\n",
       "    <tr>\n",
       "      <th>3</th>\n",
       "      <td>2</td>\n",
       "      <td>mandarin</td>\n",
       "      <td>mandarin</td>\n",
       "      <td>86</td>\n",
       "      <td>6.2</td>\n",
       "      <td>4.7</td>\n",
       "      <td>0.80</td>\n",
       "    </tr>\n",
       "    <tr>\n",
       "      <th>4</th>\n",
       "      <td>2</td>\n",
       "      <td>mandarin</td>\n",
       "      <td>mandarin</td>\n",
       "      <td>84</td>\n",
       "      <td>6.0</td>\n",
       "      <td>4.6</td>\n",
       "      <td>0.79</td>\n",
       "    </tr>\n",
       "  </tbody>\n",
       "</table>\n",
       "</div>"
      ],
      "text/plain": [
       "   fruit_label fruit_name fruit_subtype  mass  width  height  color_score\n",
       "0            1      apple  granny_smith   192    8.4     7.3         0.55\n",
       "1            1      apple  granny_smith   180    8.0     6.8         0.59\n",
       "2            1      apple  granny_smith   176    7.4     7.2         0.60\n",
       "3            2   mandarin      mandarin    86    6.2     4.7         0.80\n",
       "4            2   mandarin      mandarin    84    6.0     4.6         0.79"
      ]
     },
     "execution_count": 4,
     "metadata": {},
     "output_type": "execute_result"
    },
    {
     "name": "stdout",
     "output_type": "stream",
     "text": [
      "fruit_name\n",
      "apple       19\n",
      "lemon       16\n",
      "mandarin     5\n",
      "orange      19\n",
      "dtype: int64\n"
     ]
    }
   ],
   "source": [
    "fruits.head()\n",
    "print(fruits.groupby('fruit_name').size())"
   ]
  },
  {
   "cell_type": "code",
   "execution_count": 5,
   "id": "0b88b873",
   "metadata": {},
   "outputs": [
    {
     "data": {
      "text/html": [
       "<div>\n",
       "<style scoped>\n",
       "    .dataframe tbody tr th:only-of-type {\n",
       "        vertical-align: middle;\n",
       "    }\n",
       "\n",
       "    .dataframe tbody tr th {\n",
       "        vertical-align: top;\n",
       "    }\n",
       "\n",
       "    .dataframe thead th {\n",
       "        text-align: right;\n",
       "    }\n",
       "</style>\n",
       "<table border=\"1\" class=\"dataframe\">\n",
       "  <thead>\n",
       "    <tr style=\"text-align: right;\">\n",
       "      <th></th>\n",
       "      <th>fruit_label</th>\n",
       "      <th>mass</th>\n",
       "      <th>width</th>\n",
       "      <th>height</th>\n",
       "      <th>color_score</th>\n",
       "    </tr>\n",
       "  </thead>\n",
       "  <tbody>\n",
       "    <tr>\n",
       "      <th>count</th>\n",
       "      <td>59.000000</td>\n",
       "      <td>59.000000</td>\n",
       "      <td>59.000000</td>\n",
       "      <td>59.000000</td>\n",
       "      <td>59.000000</td>\n",
       "    </tr>\n",
       "    <tr>\n",
       "      <th>mean</th>\n",
       "      <td>2.542373</td>\n",
       "      <td>163.118644</td>\n",
       "      <td>7.105085</td>\n",
       "      <td>7.693220</td>\n",
       "      <td>0.762881</td>\n",
       "    </tr>\n",
       "    <tr>\n",
       "      <th>std</th>\n",
       "      <td>1.208048</td>\n",
       "      <td>55.018832</td>\n",
       "      <td>0.816938</td>\n",
       "      <td>1.361017</td>\n",
       "      <td>0.076857</td>\n",
       "    </tr>\n",
       "    <tr>\n",
       "      <th>min</th>\n",
       "      <td>1.000000</td>\n",
       "      <td>76.000000</td>\n",
       "      <td>5.800000</td>\n",
       "      <td>4.000000</td>\n",
       "      <td>0.550000</td>\n",
       "    </tr>\n",
       "    <tr>\n",
       "      <th>25%</th>\n",
       "      <td>1.000000</td>\n",
       "      <td>140.000000</td>\n",
       "      <td>6.600000</td>\n",
       "      <td>7.200000</td>\n",
       "      <td>0.720000</td>\n",
       "    </tr>\n",
       "    <tr>\n",
       "      <th>50%</th>\n",
       "      <td>3.000000</td>\n",
       "      <td>158.000000</td>\n",
       "      <td>7.200000</td>\n",
       "      <td>7.600000</td>\n",
       "      <td>0.750000</td>\n",
       "    </tr>\n",
       "    <tr>\n",
       "      <th>75%</th>\n",
       "      <td>4.000000</td>\n",
       "      <td>177.000000</td>\n",
       "      <td>7.500000</td>\n",
       "      <td>8.200000</td>\n",
       "      <td>0.810000</td>\n",
       "    </tr>\n",
       "    <tr>\n",
       "      <th>max</th>\n",
       "      <td>4.000000</td>\n",
       "      <td>362.000000</td>\n",
       "      <td>9.600000</td>\n",
       "      <td>10.500000</td>\n",
       "      <td>0.930000</td>\n",
       "    </tr>\n",
       "  </tbody>\n",
       "</table>\n",
       "</div>"
      ],
      "text/plain": [
       "       fruit_label        mass      width     height  color_score\n",
       "count    59.000000   59.000000  59.000000  59.000000    59.000000\n",
       "mean      2.542373  163.118644   7.105085   7.693220     0.762881\n",
       "std       1.208048   55.018832   0.816938   1.361017     0.076857\n",
       "min       1.000000   76.000000   5.800000   4.000000     0.550000\n",
       "25%       1.000000  140.000000   6.600000   7.200000     0.720000\n",
       "50%       3.000000  158.000000   7.200000   7.600000     0.750000\n",
       "75%       4.000000  177.000000   7.500000   8.200000     0.810000\n",
       "max       4.000000  362.000000   9.600000  10.500000     0.930000"
      ]
     },
     "execution_count": 5,
     "metadata": {},
     "output_type": "execute_result"
    }
   ],
   "source": [
    "fruits.describe()\n",
    "#need scaling"
   ]
  },
  {
   "cell_type": "code",
   "execution_count": 6,
   "id": "a487356f",
   "metadata": {},
   "outputs": [
    {
     "name": "stderr",
     "output_type": "stream",
     "text": [
      "D:\\anaconda3\\lib\\site-packages\\seaborn\\_decorators.py:36: FutureWarning: Pass the following variable as a keyword arg: x. From version 0.12, the only valid positional argument will be `data`, and passing other arguments without an explicit keyword will result in an error or misinterpretation.\n",
      "  warnings.warn(\n"
     ]
    },
    {
     "data": {
      "text/plain": [
       "<AxesSubplot:xlabel='fruit_name', ylabel='count'>"
      ]
     },
     "execution_count": 6,
     "metadata": {},
     "output_type": "execute_result"
    },
    {
     "data": {
      "image/png": "[encoded data removed]",
      "text/plain": [
       "<Figure size 432x288 with 1 Axes>"
      ]
     },
     "metadata": {
      "needs_background": "light"
     },
     "output_type": "display_data"
    }
   ],
   "source": [
    "sns.countplot(fruits['fruit_name'],label=\"Count\")\n",
    "plt.show()"
   ]
  },
  {
   "cell_type": "code",
   "execution_count": 7,
   "id": "f31d8f96",
   "metadata": {},
   "outputs": [],
   "source": [
    "from pandas.plotting import scatter_matrix"
   ]
  },
  {
   "cell_type": "code",
   "execution_count": 8,
   "id": "e521127f",
   "metadata": {},
   "outputs": [
    {
     "data": {
      "text/plain": [
       "Text(0.5, 0.98, 'Scatter-matrix of the variables')"
      ]
     },
     "execution_count": 8,
     "metadata": {},
     "output_type": "execute_result"
    },
    {
     "data": {
      "image/png": "[encoded data removed]",
      "text/plain": [
       "<Figure size 864x864 with 16 Axes>"
      ]
     },
     "metadata": {
      "needs_background": "light"
     },
     "output_type": "display_data"
    }
   ],
   "source": [
    "feature_names = ['mass', 'width', 'height', 'color_score']\n",
    "X = fruits[feature_names]\n",
    "y = fruits['fruit_label']\n",
    "cmap = cm.get_cmap('gnuplot')\n",
    "\n",
    "s_m = pd.plotting.scatter_matrix(X, c = y, s=40, hist_kwds={'bins':15}, figsize=(12,12), cmap = cmap)\n",
    "plt.suptitle('Scatter-matrix of the variables')\n",
    "#plt.savefig('fruits_scatter_matrix')"
   ]
  },
  {
   "cell_type": "code",
   "execution_count": 9,
   "id": "ba198a26",
   "metadata": {},
   "outputs": [],
   "source": [
    "from sklearn.model_selection import train_test_split"
   ]
  },
  {
   "cell_type": "code",
   "execution_count": 10,
   "id": "57ded662",
   "metadata": {},
   "outputs": [
    {
     "name": "stdout",
     "output_type": "stream",
     "text": [
      "Total size:  59\n",
      "Train size:  (41, 4) (41,)\n",
      "Test size:  (18, 4) (18,)\n"
     ]
    }
   ],
   "source": [
    "X_train, X_test, y_train, y_test = train_test_split(X, y, test_size=0.3,random_state=0)\n",
    "print(\"Total size: \", fruits.shape[0])\n",
    "print(\"Train size: \", X_train.shape, y_train.shape)\n",
    "print(\"Test size: \", X_test.shape, y_test.shape)"
   ]
  },
  {
   "cell_type": "code",
   "execution_count": 11,
   "id": "9b83a07b",
   "metadata": {},
   "outputs": [],
   "source": [
    "from sklearn.preprocessing import MinMaxScaler\n",
    "scaler = MinMaxScaler()\n",
    "X_train = scaler.fit_transform(X_train)\n",
    "X_test = scaler.transform(X_test)"
   ]
  },
  {
   "cell_type": "code",
   "execution_count": 12,
   "id": "1417091e",
   "metadata": {},
   "outputs": [],
   "source": [
    "from sklearn.metrics import classification_report\n",
    "from sklearn.metrics import confusion_matrix"
   ]
  },
  {
   "cell_type": "code",
   "execution_count": 13,
   "id": "b758653e",
   "metadata": {},
   "outputs": [],
   "source": [
    "import warnings\n",
    "warnings.filterwarnings('ignore')"
   ]
  },
  {
   "cell_type": "code",
   "execution_count": 14,
   "id": "3a627f76",
   "metadata": {},
   "outputs": [],
   "source": [
    "def Predictive_Model(model):\n",
    "    estimator = model\n",
    "    estimator.fit(X_train, y_train)\n",
    "    prediction = estimator.predict(X_test)\n",
    "    print('Accuracy on training set: {:.2f}'.format(estimator.score(X_train, y_train)))\n",
    "    print('Accuracy on test set: {:.2f}'.format(estimator.score(X_test, y_test)))\n",
    "    print(confusion_matrix(y_test, prediction))\n",
    "    print(classification_report(y_test, prediction))"
   ]
  },
  {
   "cell_type": "code",
   "execution_count": 17,
   "id": "f7475666",
   "metadata": {},
   "outputs": [
    {
     "name": "stdout",
     "output_type": "stream",
     "text": [
      "Accuracy on training set: 0.73\n",
      "Accuracy on test set: 0.44\n",
      "[[4 0 0 0]\n",
      " [2 0 0 0]\n",
      " [7 0 1 1]\n",
      " [0 0 0 3]]\n",
      "              precision    recall  f1-score   support\n",
      "\n",
      "           1       0.31      1.00      0.47         4\n",
      "           2       0.00      0.00      0.00         2\n",
      "           3       1.00      0.11      0.20         9\n",
      "           4       0.75      1.00      0.86         3\n",
      "\n",
      "    accuracy                           0.44        18\n",
      "   macro avg       0.51      0.53      0.38        18\n",
      "weighted avg       0.69      0.44      0.35        18\n",
      "\n"
     ]
    }
   ],
   "source": [
    "#Logistic Regression\n",
    "from sklearn.linear_model import LogisticRegression\n",
    "lr = LogisticRegression()\n",
    "Predictive_Model(lr)"
   ]
  },
  {
   "cell_type": "code",
   "execution_count": 18,
   "id": "562513b5",
   "metadata": {},
   "outputs": [
    {
     "name": "stdout",
     "output_type": "stream",
     "text": [
      "Accuracy on training set: 1.00\n",
      "Accuracy on test set: 0.89\n",
      "[[4 0 0 0]\n",
      " [0 2 0 0]\n",
      " [2 0 7 0]\n",
      " [0 0 0 3]]\n",
      "              precision    recall  f1-score   support\n",
      "\n",
      "           1       0.67      1.00      0.80         4\n",
      "           2       1.00      1.00      1.00         2\n",
      "           3       1.00      0.78      0.88         9\n",
      "           4       1.00      1.00      1.00         3\n",
      "\n",
      "    accuracy                           0.89        18\n",
      "   macro avg       0.92      0.94      0.92        18\n",
      "weighted avg       0.93      0.89      0.89        18\n",
      "\n"
     ]
    }
   ],
   "source": [
    "#DT\n",
    "from sklearn.tree import DecisionTreeClassifier\n",
    "dt = DecisionTreeClassifier()\n",
    "Predictive_Model(dt)"
   ]
  },
  {
   "cell_type": "code",
   "execution_count": 19,
   "id": "71a7fdae",
   "metadata": {},
   "outputs": [
    {
     "name": "stdout",
     "output_type": "stream",
     "text": [
      "Accuracy on training set: 1.00\n",
      "Accuracy on test set: 0.89\n",
      "[[4 0 0 0]\n",
      " [0 2 0 0]\n",
      " [1 0 7 1]\n",
      " [0 0 0 3]]\n",
      "              precision    recall  f1-score   support\n",
      "\n",
      "           1       0.80      1.00      0.89         4\n",
      "           2       1.00      1.00      1.00         2\n",
      "           3       1.00      0.78      0.88         9\n",
      "           4       0.75      1.00      0.86         3\n",
      "\n",
      "    accuracy                           0.89        18\n",
      "   macro avg       0.89      0.94      0.91        18\n",
      "weighted avg       0.91      0.89      0.89        18\n",
      "\n"
     ]
    }
   ],
   "source": [
    "#RF\n",
    "from sklearn.ensemble import RandomForestClassifier\n",
    "rfc = RandomForestClassifier() \n",
    "Predictive_Model(rfc)"
   ]
  },
  {
   "cell_type": "code",
   "execution_count": 20,
   "id": "29cd6438",
   "metadata": {},
   "outputs": [
    {
     "name": "stdout",
     "output_type": "stream",
     "text": [
      "[16:41:17] WARNING: ..\\src\\learner.cc:1061: Starting in XGBoost 1.3.0, the default evaluation metric used with the objective 'multi:softprob' was changed from 'merror' to 'mlogloss'. Explicitly set eval_metric if you'd like to restore the old behavior.\n",
      "Accuracy on training set: 1.00\n",
      "Accuracy on test set: 0.83\n",
      "[[4 0 0 0]\n",
      " [0 2 0 0]\n",
      " [0 0 6 3]\n",
      " [0 0 0 3]]\n",
      "              precision    recall  f1-score   support\n",
      "\n",
      "           1       1.00      1.00      1.00         4\n",
      "           2       1.00      1.00      1.00         2\n",
      "           3       1.00      0.67      0.80         9\n",
      "           4       0.50      1.00      0.67         3\n",
      "\n",
      "    accuracy                           0.83        18\n",
      "   macro avg       0.88      0.92      0.87        18\n",
      "weighted avg       0.92      0.83      0.84        18\n",
      "\n"
     ]
    }
   ],
   "source": [
    "#XGBOOST\n",
    "import xgboost\n",
    "xgb = xgboost.XGBClassifier() \n",
    "Predictive_Model(xgb)"
   ]
  },
  {
   "cell_type": "code",
   "execution_count": 21,
   "id": "1e1bba15",
   "metadata": {},
   "outputs": [
    {
     "name": "stdout",
     "output_type": "stream",
     "text": [
      "Accuracy on training set: 0.88\n",
      "Accuracy on test set: 0.67\n",
      "[[4 0 0 0]\n",
      " [0 2 0 0]\n",
      " [5 0 3 1]\n",
      " [0 0 0 3]]\n",
      "              precision    recall  f1-score   support\n",
      "\n",
      "           1       0.44      1.00      0.62         4\n",
      "           2       1.00      1.00      1.00         2\n",
      "           3       1.00      0.33      0.50         9\n",
      "           4       0.75      1.00      0.86         3\n",
      "\n",
      "    accuracy                           0.67        18\n",
      "   macro avg       0.80      0.83      0.74        18\n",
      "weighted avg       0.83      0.67      0.64        18\n",
      "\n"
     ]
    }
   ],
   "source": [
    "#Bayes\n",
    "from sklearn.naive_bayes import GaussianNB\n",
    "gnb = GaussianNB()\n",
    "Predictive_Model(gnb)"
   ]
  },
  {
   "cell_type": "code",
   "execution_count": 24,
   "id": "df8ccaa5",
   "metadata": {},
   "outputs": [
    {
     "name": "stdout",
     "output_type": "stream",
     "text": [
      "Accuracy on training set: 0.90\n",
      "Accuracy on test set: 0.61\n",
      "[[4 0 0 0]\n",
      " [0 2 0 0]\n",
      " [6 0 2 1]\n",
      " [0 0 0 3]]\n",
      "              precision    recall  f1-score   support\n",
      "\n",
      "           1       0.40      1.00      0.57         4\n",
      "           2       1.00      1.00      1.00         2\n",
      "           3       1.00      0.22      0.36         9\n",
      "           4       0.75      1.00      0.86         3\n",
      "\n",
      "    accuracy                           0.61        18\n",
      "   macro avg       0.79      0.81      0.70        18\n",
      "weighted avg       0.82      0.61      0.56        18\n",
      "\n"
     ]
    }
   ],
   "source": [
    "#SVM\n",
    "from sklearn.svm import SVC\n",
    "svm = SVC()\n",
    "Predictive_Model(svm)"
   ]
  },
  {
   "cell_type": "code",
   "execution_count": 22,
   "id": "b974e9e8",
   "metadata": {},
   "outputs": [
    {
     "name": "stdout",
     "output_type": "stream",
     "text": [
      "Accuracy on training set: 0.95\n",
      "Accuracy on test set: 1.00\n",
      "[[4 0 0 0]\n",
      " [0 2 0 0]\n",
      " [0 0 9 0]\n",
      " [0 0 0 3]]\n",
      "              precision    recall  f1-score   support\n",
      "\n",
      "           1       1.00      1.00      1.00         4\n",
      "           2       1.00      1.00      1.00         2\n",
      "           3       1.00      1.00      1.00         9\n",
      "           4       1.00      1.00      1.00         3\n",
      "\n",
      "    accuracy                           1.00        18\n",
      "   macro avg       1.00      1.00      1.00        18\n",
      "weighted avg       1.00      1.00      1.00        18\n",
      "\n"
     ]
    }
   ],
   "source": [
    "#KNN\n",
    "from sklearn.neighbors import KNeighborsClassifier\n",
    "knn = KNeighborsClassifier()\n",
    "Predictive_Model(knn)"
   ]
  },
  {
   "cell_type": "code",
   "execution_count": 23,
   "id": "6abfbf21",
   "metadata": {},
   "outputs": [
    {
     "data": {
      "text/plain": [
       "KNeighborsClassifier(n_neighbors=1)"
      ]
     },
     "execution_count": 23,
     "metadata": {},
     "output_type": "execute_result"
    },
    {
     "data": {
      "text/plain": [
       "KNeighborsClassifier(n_neighbors=2)"
      ]
     },
     "execution_count": 23,
     "metadata": {},
     "output_type": "execute_result"
    },
    {
     "data": {
      "text/plain": [
       "KNeighborsClassifier(n_neighbors=3)"
      ]
     },
     "execution_count": 23,
     "metadata": {},
     "output_type": "execute_result"
    },
    {
     "data": {
      "text/plain": [
       "KNeighborsClassifier(n_neighbors=4)"
      ]
     },
     "execution_count": 23,
     "metadata": {},
     "output_type": "execute_result"
    },
    {
     "data": {
      "text/plain": [
       "KNeighborsClassifier()"
      ]
     },
     "execution_count": 23,
     "metadata": {},
     "output_type": "execute_result"
    },
    {
     "data": {
      "text/plain": [
       "KNeighborsClassifier(n_neighbors=6)"
      ]
     },
     "execution_count": 23,
     "metadata": {},
     "output_type": "execute_result"
    },
    {
     "data": {
      "text/plain": [
       "KNeighborsClassifier(n_neighbors=7)"
      ]
     },
     "execution_count": 23,
     "metadata": {},
     "output_type": "execute_result"
    },
    {
     "data": {
      "text/plain": [
       "KNeighborsClassifier(n_neighbors=8)"
      ]
     },
     "execution_count": 23,
     "metadata": {},
     "output_type": "execute_result"
    },
    {
     "data": {
      "text/plain": [
       "KNeighborsClassifier(n_neighbors=9)"
      ]
     },
     "execution_count": 23,
     "metadata": {},
     "output_type": "execute_result"
    },
    {
     "data": {
      "text/plain": [
       "<Figure size 432x288 with 0 Axes>"
      ]
     },
     "execution_count": 23,
     "metadata": {},
     "output_type": "execute_result"
    },
    {
     "data": {
      "text/plain": [
       "Text(0.5, 0, 'k')"
      ]
     },
     "execution_count": 23,
     "metadata": {},
     "output_type": "execute_result"
    },
    {
     "data": {
      "text/plain": [
       "Text(0, 0.5, 'accuracy')"
      ]
     },
     "execution_count": 23,
     "metadata": {},
     "output_type": "execute_result"
    },
    {
     "data": {
      "text/plain": [
       "<matplotlib.collections.PathCollection at 0x287c25fbfa0>"
      ]
     },
     "execution_count": 23,
     "metadata": {},
     "output_type": "execute_result"
    },
    {
     "data": {
      "text/plain": [
       "([<matplotlib.axis.XTick at 0x287c25e8490>,\n",
       "  <matplotlib.axis.XTick at 0x287c25e8460>,\n",
       "  <matplotlib.axis.XTick at 0x287c25db520>,\n",
       "  <matplotlib.axis.XTick at 0x287c260e880>,\n",
       "  <matplotlib.axis.XTick at 0x287c260ed90>],\n",
       " [Text(0, 0, ''),\n",
       "  Text(0, 0, ''),\n",
       "  Text(0, 0, ''),\n",
       "  Text(0, 0, ''),\n",
       "  Text(0, 0, '')])"
      ]
     },
     "execution_count": 23,
     "metadata": {},
     "output_type": "execute_result"
    },
    {
     "data": {
      "image/png": "[encoded data removed]",
      "text/plain": [
       "<Figure size 432x288 with 1 Axes>"
      ]
     },
     "metadata": {
      "needs_background": "light"
     },
     "output_type": "display_data"
    }
   ],
   "source": [
    "k_range = range(1, 10)\n",
    "scores = []\n",
    "for k in k_range:\n",
    "    knn = KNeighborsClassifier(n_neighbors = k)\n",
    "    knn.fit(X_train, y_train)\n",
    "    scores.append(knn.score(X_test, y_test))\n",
    "plt.figure()\n",
    "plt.xlabel('k')\n",
    "plt.ylabel('accuracy')\n",
    "plt.scatter(k_range, scores)\n",
    "plt.xticks([0,5,10,15,20])"
   ]
  },
  {
   "cell_type": "code",
   "execution_count": 25,
   "id": "9c98f49d",
   "metadata": {},
   "outputs": [],
   "source": [
    "# ##to bo done: plot the decision boundary\n",
    "# import matplotlib.pylab as pyb\n",
    "# from matplotlib.colors import ListedColormap\n",
    "\n",
    "# lc = ListedColormap(['#FFAAAA', '#AAFFAA', '#AAAAFF','#AFAFAF'])\n",
    "# lc2  = ListedColormap(['#FF0000', '#00FF00', '#0000FF','#AFAFAF'])\n",
    "\n",
    "# y_ = knn.predict(X_test)\n",
    "\n",
    "# %%time\n",
    "\n",
    "#pyb.scatter\n"
   ]
  },
  {
   "cell_type": "code",
   "execution_count": null,
   "id": "f0938c6c",
   "metadata": {},
   "outputs": [],
   "source": [
    "# usig cross-validation"
   ]
  },
  {
   "cell_type": "code",
   "execution_count": null,
   "id": "2d86f8c7",
   "metadata": {},
   "outputs": [],
   "source": []
  },
  {
   "cell_type": "code",
   "execution_count": null,
   "id": "f70cfae9",
   "metadata": {},
   "outputs": [],
   "source": []
  }
 ],
 "metadata": {
  "kernelspec": {
   "display_name": "Python 3",
   "language": "python",
   "name": "python3"
  },
  "language_info": {
   "codemirror_mode": {
    "name": "ipython",
    "version": 3
   },
   "file_extension": ".py",
   "mimetype": "text/x-python",
   "name": "python",
   "nbconvert_exporter": "python",
   "pygments_lexer": "ipython3",
   "version": "3.8.8"
  }
 },
 "nbformat": 4,
 "nbformat_minor": 5
}
