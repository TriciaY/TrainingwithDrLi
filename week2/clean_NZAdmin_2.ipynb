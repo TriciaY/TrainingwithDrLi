{
 "cells": [
  {
   "cell_type": "markdown",
   "metadata": {},
   "source": [
    "# 1. data cleaning\n",
    "\n",
    "NZ_Admin from SEEK"
   ]
  },
  {
   "cell_type": "code",
   "execution_count": 1,
   "metadata": {},
   "outputs": [],
   "source": [
    "import pandas as pd\n",
    "import numpy as np\n",
    "import re\n",
    "from IPython.core.interactiveshell import InteractiveShell\n",
    "InteractiveShell.ast_node_interactivity = \"all\""
   ]
  },
  {
   "cell_type": "code",
   "execution_count": 2,
   "metadata": {},
   "outputs": [],
   "source": [
    "#remove duplicated contents\n",
    "#approach 1\n",
    "def deduplication(x):\n",
    "    x=x.strip()\n",
    "    if x == 'None':\n",
    "        return None  \n",
    "    return x[:len(x)//2]\n",
    "#approach 2\n",
    "def deduplication_impr(x):\n",
    "    temp = x.strip()\n",
    "    index = (temp + temp).find(temp,1)\n",
    "    if index != -1:\n",
    "        return temp[:index]\n",
    "    else:\n",
    "        return temp\n",
    "#approach 3: regex\n",
    "def deduplication_regex(x):\n",
    "    x = x.strip()\n",
    "    if x == 'None':\n",
    "        return None\n",
    "    return re.match(r'(.*)\\1',x).group(1)"
   ]
  },
  {
   "cell_type": "code",
   "execution_count": 3,
   "metadata": {},
   "outputs": [
    {
     "name": "stdout",
     "output_type": "stream",
     "text": [
      "(2708, 6)\n",
      "字段1         object\n",
      "字段1_link    object\n",
      "字段2         object\n",
      "字段3         object\n",
      "字段4         object\n",
      "字段5         object\n",
      "dtype: object\n"
     ]
    },
    {
     "data": {
      "text/html": [
       "<div>\n",
       "<style scoped>\n",
       "    .dataframe tbody tr th:only-of-type {\n",
       "        vertical-align: middle;\n",
       "    }\n",
       "\n",
       "    .dataframe tbody tr th {\n",
       "        vertical-align: top;\n",
       "    }\n",
       "\n",
       "    .dataframe thead th {\n",
       "        text-align: right;\n",
       "    }\n",
       "</style>\n",
       "<table border=\"1\" class=\"dataframe\">\n",
       "  <thead>\n",
       "    <tr style=\"text-align: right;\">\n",
       "      <th></th>\n",
       "      <th>字段1</th>\n",
       "      <th>字段1_link</th>\n",
       "      <th>字段2</th>\n",
       "      <th>字段3</th>\n",
       "      <th>字段4</th>\n",
       "      <th>字段5</th>\n",
       "    </tr>\n",
       "  </thead>\n",
       "  <tbody>\n",
       "    <tr>\n",
       "      <td>0</td>\n",
       "      <td>Administrator</td>\n",
       "      <td>https://www.seek.co.nz/job/50582301?type=promo...</td>\n",
       "      <td>NaN</td>\n",
       "      <td>location: Bay of PlentyBay of Plentyarea: Taur...</td>\n",
       "      <td>Featured,at,Private Advertiser</td>\n",
       "      <td>classification: Administration &amp; Office Suppor...</td>\n",
       "    </tr>\n",
       "    <tr>\n",
       "      <td>1</td>\n",
       "      <td>Receptionist</td>\n",
       "      <td>https://www.seek.co.nz/job/50620889?type=promo...</td>\n",
       "      <td>Avenues Orthodontics</td>\n",
       "      <td>location: Bay of PlentyBay of Plentyarea: Taur...</td>\n",
       "      <td>Featured,at</td>\n",
       "      <td>classification: Administration &amp; Office Suppor...</td>\n",
       "    </tr>\n",
       "    <tr>\n",
       "      <td>2</td>\n",
       "      <td>Prosecutions Support Officer</td>\n",
       "      <td>https://www.seek.co.nz/job/50622169?type=stand...</td>\n",
       "      <td>New Zealand Police</td>\n",
       "      <td>location: AucklandAuckland</td>\n",
       "      <td>4d ago,at</td>\n",
       "      <td>classification: Administration &amp; Office Suppor...</td>\n",
       "    </tr>\n",
       "    <tr>\n",
       "      <td>3</td>\n",
       "      <td>Early Childhood Centre Administrator</td>\n",
       "      <td>https://www.seek.co.nz/job/50639620?type=stand...</td>\n",
       "      <td>Kew Pacific Island Early Learning Centre</td>\n",
       "      <td>location: SouthlandSouthlandarea: Invercargill...</td>\n",
       "      <td>1h ago,at</td>\n",
       "      <td>classification: Administration &amp; Office Suppor...</td>\n",
       "    </tr>\n",
       "    <tr>\n",
       "      <td>4</td>\n",
       "      <td>Business Support Administrator</td>\n",
       "      <td>https://www.seek.co.nz/job/50622432?type=stand...</td>\n",
       "      <td>NaN</td>\n",
       "      <td>location: CanterburyCanterburyarea: Christchur...</td>\n",
       "      <td>4d ago,at,Private Advertiser</td>\n",
       "      <td>classification: Administration &amp; Office Suppor...</td>\n",
       "    </tr>\n",
       "  </tbody>\n",
       "</table>\n",
       "</div>"
      ],
      "text/plain": [
       "                                    字段1  \\\n",
       "0                         Administrator   \n",
       "1                          Receptionist   \n",
       "2          Prosecutions Support Officer   \n",
       "3  Early Childhood Centre Administrator   \n",
       "4        Business Support Administrator   \n",
       "\n",
       "                                            字段1_link  \\\n",
       "0  https://www.seek.co.nz/job/50582301?type=promo...   \n",
       "1  https://www.seek.co.nz/job/50620889?type=promo...   \n",
       "2  https://www.seek.co.nz/job/50622169?type=stand...   \n",
       "3  https://www.seek.co.nz/job/50639620?type=stand...   \n",
       "4  https://www.seek.co.nz/job/50622432?type=stand...   \n",
       "\n",
       "                                        字段2  \\\n",
       "0                                       NaN   \n",
       "1                      Avenues Orthodontics   \n",
       "2                        New Zealand Police   \n",
       "3  Kew Pacific Island Early Learning Centre   \n",
       "4                                       NaN   \n",
       "\n",
       "                                                 字段3  \\\n",
       "0  location: Bay of PlentyBay of Plentyarea: Taur...   \n",
       "1  location: Bay of PlentyBay of Plentyarea: Taur...   \n",
       "2                         location: AucklandAuckland   \n",
       "3  location: SouthlandSouthlandarea: Invercargill...   \n",
       "4  location: CanterburyCanterburyarea: Christchur...   \n",
       "\n",
       "                              字段4  \\\n",
       "0  Featured,at,Private Advertiser   \n",
       "1                     Featured,at   \n",
       "2                       4d ago,at   \n",
       "3                       1h ago,at   \n",
       "4    4d ago,at,Private Advertiser   \n",
       "\n",
       "                                                 字段5  \n",
       "0  classification: Administration & Office Suppor...  \n",
       "1  classification: Administration & Office Suppor...  \n",
       "2  classification: Administration & Office Suppor...  \n",
       "3  classification: Administration & Office Suppor...  \n",
       "4  classification: Administration & Office Suppor...  "
      ]
     },
     "execution_count": 3,
     "metadata": {},
     "output_type": "execute_result"
    }
   ],
   "source": [
    "df_admin = pd.read_csv('datasets/NZ_Admin_JOBS.csv')\n",
    "print(df_admin.shape)\n",
    "print(df_admin.dtypes)\n",
    "df_admin.head()"
   ]
  },
  {
   "cell_type": "code",
   "execution_count": 4,
   "metadata": {},
   "outputs": [
    {
     "data": {
      "text/html": [
       "<div>\n",
       "<style scoped>\n",
       "    .dataframe tbody tr th:only-of-type {\n",
       "        vertical-align: middle;\n",
       "    }\n",
       "\n",
       "    .dataframe tbody tr th {\n",
       "        vertical-align: top;\n",
       "    }\n",
       "\n",
       "    .dataframe thead th {\n",
       "        text-align: right;\n",
       "    }\n",
       "</style>\n",
       "<table border=\"1\" class=\"dataframe\">\n",
       "  <thead>\n",
       "    <tr style=\"text-align: right;\">\n",
       "      <th></th>\n",
       "      <th>job_title</th>\n",
       "      <th>job_link</th>\n",
       "      <th>job_advertiser</th>\n",
       "      <th>location</th>\n",
       "      <th>released_time</th>\n",
       "      <th>classification</th>\n",
       "    </tr>\n",
       "  </thead>\n",
       "  <tbody>\n",
       "    <tr>\n",
       "      <td>0</td>\n",
       "      <td>Administrator</td>\n",
       "      <td>https://www.seek.co.nz/job/50582301?type=promo...</td>\n",
       "      <td>NaN</td>\n",
       "      <td>location: Bay of PlentyBay of Plentyarea: Taur...</td>\n",
       "      <td>Featured,at,Private Advertiser</td>\n",
       "      <td>classification: Administration &amp; Office Suppor...</td>\n",
       "    </tr>\n",
       "    <tr>\n",
       "      <td>1</td>\n",
       "      <td>Receptionist</td>\n",
       "      <td>https://www.seek.co.nz/job/50620889?type=promo...</td>\n",
       "      <td>Avenues Orthodontics</td>\n",
       "      <td>location: Bay of PlentyBay of Plentyarea: Taur...</td>\n",
       "      <td>Featured,at</td>\n",
       "      <td>classification: Administration &amp; Office Suppor...</td>\n",
       "    </tr>\n",
       "    <tr>\n",
       "      <td>2</td>\n",
       "      <td>Prosecutions Support Officer</td>\n",
       "      <td>https://www.seek.co.nz/job/50622169?type=stand...</td>\n",
       "      <td>New Zealand Police</td>\n",
       "      <td>location: AucklandAuckland</td>\n",
       "      <td>4d ago,at</td>\n",
       "      <td>classification: Administration &amp; Office Suppor...</td>\n",
       "    </tr>\n",
       "  </tbody>\n",
       "</table>\n",
       "</div>"
      ],
      "text/plain": [
       "                      job_title  \\\n",
       "0                 Administrator   \n",
       "1                  Receptionist   \n",
       "2  Prosecutions Support Officer   \n",
       "\n",
       "                                            job_link        job_advertiser  \\\n",
       "0  https://www.seek.co.nz/job/50582301?type=promo...                   NaN   \n",
       "1  https://www.seek.co.nz/job/50620889?type=promo...  Avenues Orthodontics   \n",
       "2  https://www.seek.co.nz/job/50622169?type=stand...    New Zealand Police   \n",
       "\n",
       "                                            location  \\\n",
       "0  location: Bay of PlentyBay of Plentyarea: Taur...   \n",
       "1  location: Bay of PlentyBay of Plentyarea: Taur...   \n",
       "2                         location: AucklandAuckland   \n",
       "\n",
       "                    released_time  \\\n",
       "0  Featured,at,Private Advertiser   \n",
       "1                     Featured,at   \n",
       "2                       4d ago,at   \n",
       "\n",
       "                                      classification  \n",
       "0  classification: Administration & Office Suppor...  \n",
       "1  classification: Administration & Office Suppor...  \n",
       "2  classification: Administration & Office Suppor...  "
      ]
     },
     "execution_count": 4,
     "metadata": {},
     "output_type": "execute_result"
    }
   ],
   "source": [
    "#rename the columns\n",
    "df_admin.columns=['job_title', 'job_link', 'job_advertiser', 'location', 'released_time', 'classification']\n",
    "df_admin.head(3)"
   ]
  },
  {
   "cell_type": "markdown",
   "metadata": {},
   "source": [
    "## missing values\n",
    "\n",
    "There are three common methods to treat missing values: **deletion, imputation and prediction**. Deletion means deleting the data associated with missing values. We usually use the deletion method when the missing parts are completely at random. When there are known relationships between samples, we can fill in the missing values with imputation or train a prediction model to predict the missing values. Some common models are regression and ANOVA (Sunil, 2016). \n",
    "\n",
    "https://blog.csdn.net/A632189007/article/details/76176985\n"
   ]
  },
  {
   "cell_type": "code",
   "execution_count": 5,
   "metadata": {},
   "outputs": [
    {
     "data": {
      "text/plain": [
       "job_title         False\n",
       "job_link          False\n",
       "job_advertiser     True\n",
       "location          False\n",
       "released_time     False\n",
       "classification    False\n",
       "dtype: bool"
      ]
     },
     "execution_count": 5,
     "metadata": {},
     "output_type": "execute_result"
    }
   ],
   "source": [
    "#checking missing value\n",
    "df_admin.isnull().any()"
   ]
  },
  {
   "cell_type": "code",
   "execution_count": 6,
   "metadata": {},
   "outputs": [
    {
     "data": {
      "text/plain": [
       "22"
      ]
     },
     "execution_count": 6,
     "metadata": {},
     "output_type": "execute_result"
    },
    {
     "data": {
      "text/html": [
       "<div>\n",
       "<style scoped>\n",
       "    .dataframe tbody tr th:only-of-type {\n",
       "        vertical-align: middle;\n",
       "    }\n",
       "\n",
       "    .dataframe tbody tr th {\n",
       "        vertical-align: top;\n",
       "    }\n",
       "\n",
       "    .dataframe thead th {\n",
       "        text-align: right;\n",
       "    }\n",
       "</style>\n",
       "<table border=\"1\" class=\"dataframe\">\n",
       "  <thead>\n",
       "    <tr style=\"text-align: right;\">\n",
       "      <th></th>\n",
       "      <th>job_title</th>\n",
       "      <th>job_link</th>\n",
       "      <th>job_advertiser</th>\n",
       "      <th>location</th>\n",
       "      <th>released_time</th>\n",
       "      <th>classification</th>\n",
       "    </tr>\n",
       "  </thead>\n",
       "  <tbody>\n",
       "    <tr>\n",
       "      <td>0</td>\n",
       "      <td>Administrator</td>\n",
       "      <td>https://www.seek.co.nz/job/50582301?type=promo...</td>\n",
       "      <td>NaN</td>\n",
       "      <td>location: Bay of PlentyBay of Plentyarea: Taur...</td>\n",
       "      <td>Featured,at,Private Advertiser</td>\n",
       "      <td>classification: Administration &amp; Office Suppor...</td>\n",
       "    </tr>\n",
       "    <tr>\n",
       "      <td>4</td>\n",
       "      <td>Business Support Administrator</td>\n",
       "      <td>https://www.seek.co.nz/job/50622432?type=stand...</td>\n",
       "      <td>NaN</td>\n",
       "      <td>location: CanterburyCanterburyarea: Christchur...</td>\n",
       "      <td>4d ago,at,Private Advertiser</td>\n",
       "      <td>classification: Administration &amp; Office Suppor...</td>\n",
       "    </tr>\n",
       "    <tr>\n",
       "      <td>19</td>\n",
       "      <td>Administrator</td>\n",
       "      <td>https://www.seek.co.nz/job/50604829?type=stand...</td>\n",
       "      <td>NaN</td>\n",
       "      <td>location: ManawatuManawatuarea: Rest of Manawa...</td>\n",
       "      <td>7d ago,at,Private Advertiser</td>\n",
       "      <td>classification: Administration &amp; Office Suppor...</td>\n",
       "    </tr>\n",
       "    <tr>\n",
       "      <td>60</td>\n",
       "      <td>Administrator</td>\n",
       "      <td>https://www.seek.co.nz/job/50582301?type=stand...</td>\n",
       "      <td>NaN</td>\n",
       "      <td>location: Bay of PlentyBay of Plentyarea: Taur...</td>\n",
       "      <td>11d ago,at,Private Advertiser</td>\n",
       "      <td>classification: Administration &amp; Office Suppor...</td>\n",
       "    </tr>\n",
       "    <tr>\n",
       "      <td>64</td>\n",
       "      <td>ADMINISTRATION SPECIALIST - CONSTRUCTION</td>\n",
       "      <td>https://www.seek.co.nz/job/50638765?type=stand...</td>\n",
       "      <td>NaN</td>\n",
       "      <td>location: AucklandAucklandarea: Rodney &amp; North...</td>\n",
       "      <td>5h ago,at,Private Advertiser</td>\n",
       "      <td>classification: Administration &amp; Office Suppor...</td>\n",
       "    </tr>\n",
       "    <tr>\n",
       "      <td>67</td>\n",
       "      <td>Administrator</td>\n",
       "      <td>https://www.seek.co.nz/job/50582301?type=promo...</td>\n",
       "      <td>NaN</td>\n",
       "      <td>location: Bay of PlentyBay of Plentyarea: Taur...</td>\n",
       "      <td>Featured,at,Private Advertiser</td>\n",
       "      <td>classification: Administration &amp; Office Suppor...</td>\n",
       "    </tr>\n",
       "    <tr>\n",
       "      <td>71</td>\n",
       "      <td>Administrator</td>\n",
       "      <td>https://www.seek.co.nz/job/50607763?type=stand...</td>\n",
       "      <td>NaN</td>\n",
       "      <td>location: AucklandAucklandarea: Rodney &amp; North...</td>\n",
       "      <td>6d ago,at,Private Advertiser</td>\n",
       "      <td>classification: Administration &amp; Office Suppor...</td>\n",
       "    </tr>\n",
       "    <tr>\n",
       "      <td>95</td>\n",
       "      <td>Export Admin Support</td>\n",
       "      <td>https://www.seek.co.nz/job/50583111?type=stand...</td>\n",
       "      <td>NaN</td>\n",
       "      <td>location: Hawkes BayHawkes Bayarea: HastingsHa...</td>\n",
       "      <td>11d ago,at,Private Advertiser</td>\n",
       "      <td>classification: Administration &amp; Office Suppor...</td>\n",
       "    </tr>\n",
       "    <tr>\n",
       "      <td>135</td>\n",
       "      <td>Executive Assistant</td>\n",
       "      <td>https://www.seek.co.nz/job/50613522?type=stand...</td>\n",
       "      <td>NaN</td>\n",
       "      <td>location: AucklandAucklandarea: Manukau &amp; East...</td>\n",
       "      <td>5d ago,at,Private Advertiser</td>\n",
       "      <td>classification: Administration &amp; Office Suppor...</td>\n",
       "    </tr>\n",
       "    <tr>\n",
       "      <td>187</td>\n",
       "      <td>PERSONAL ASSISTANT - PART TIME</td>\n",
       "      <td>https://www.seek.co.nz/job/50588220?type=stand...</td>\n",
       "      <td>NaN</td>\n",
       "      <td>location: AucklandAucklandarea: Auckland Centr...</td>\n",
       "      <td>10d ago,at,Private Advertiser</td>\n",
       "      <td>classification: Administration &amp; Office Suppor...</td>\n",
       "    </tr>\n",
       "    <tr>\n",
       "      <td>215</td>\n",
       "      <td>Time Target Rostering Administrator</td>\n",
       "      <td>https://www.seek.co.nz/job/50572487?type=stand...</td>\n",
       "      <td>NaN</td>\n",
       "      <td>location: WaikatoWaikatoarea: Rest of WaikatoR...</td>\n",
       "      <td>12d ago,at,Private Advertiser</td>\n",
       "      <td>classification: Administration &amp; Office Suppor...</td>\n",
       "    </tr>\n",
       "    <tr>\n",
       "      <td>297</td>\n",
       "      <td>Operations Coordinator - South Island</td>\n",
       "      <td>https://www.seek.co.nz/job/50597654?type=stand...</td>\n",
       "      <td>NaN</td>\n",
       "      <td>location: CanterburyCanterburyarea: Christchur...</td>\n",
       "      <td>7d ago,at,Private Advertiser</td>\n",
       "      <td>classification: Administration &amp; Office Suppor...</td>\n",
       "    </tr>\n",
       "    <tr>\n",
       "      <td>318</td>\n",
       "      <td>Customer Service /Sales/Admin</td>\n",
       "      <td>https://www.seek.co.nz/job/50557862?type=stand...</td>\n",
       "      <td>NaN</td>\n",
       "      <td>location: AucklandAucklandarea: Rodney &amp; North...</td>\n",
       "      <td>14d ago,at,Private Advertiser</td>\n",
       "      <td>$40,000 - $49,999</td>\n",
       "    </tr>\n",
       "    <tr>\n",
       "      <td>385</td>\n",
       "      <td>Client Liaison</td>\n",
       "      <td>https://www.seek.co.nz/job/50580821?type=stand...</td>\n",
       "      <td>NaN</td>\n",
       "      <td>location: TaranakiTaranakiarea: New PlymouthNe...</td>\n",
       "      <td>11d ago,at,Private Advertiser</td>\n",
       "      <td>classification: Administration &amp; Office Suppor...</td>\n",
       "    </tr>\n",
       "    <tr>\n",
       "      <td>412</td>\n",
       "      <td>Executive Business Coordinator Cadetship - Gra...</td>\n",
       "      <td>https://www.seek.co.nz/job/50621110?type=stand...</td>\n",
       "      <td>NaN</td>\n",
       "      <td>location: AucklandAucklandarea: Manukau &amp; East...</td>\n",
       "      <td>4d ago,at,Private Advertiser</td>\n",
       "      <td>classification: Administration &amp; Office Suppor...</td>\n",
       "    </tr>\n",
       "    <tr>\n",
       "      <td>437</td>\n",
       "      <td>Receptionist / Office Assistant</td>\n",
       "      <td>https://www.seek.co.nz/job/50508458?type=stand...</td>\n",
       "      <td>NaN</td>\n",
       "      <td>location: AucklandAucklandarea: Auckland Centr...</td>\n",
       "      <td>24d ago,at,Private Advertiser</td>\n",
       "      <td>classification: Administration &amp; Office Suppor...</td>\n",
       "    </tr>\n",
       "    <tr>\n",
       "      <td>446</td>\n",
       "      <td>Receptionist</td>\n",
       "      <td>https://www.seek.co.nz/job/50516951?type=stand...</td>\n",
       "      <td>NaN</td>\n",
       "      <td>location: WellingtonWellingtonarea: Hutt Valle...</td>\n",
       "      <td>22d ago,at,Private Advertiser</td>\n",
       "      <td>classification: Administration &amp; Office Suppor...</td>\n",
       "    </tr>\n",
       "    <tr>\n",
       "      <td>470</td>\n",
       "      <td>Personal Assistant / Accounts Administrator</td>\n",
       "      <td>https://www.seek.co.nz/job/50564784?type=stand...</td>\n",
       "      <td>NaN</td>\n",
       "      <td>location: Bay of PlentyBay of Plentyarea: Roto...</td>\n",
       "      <td>13d ago,at,Private Advertiser</td>\n",
       "      <td>classification: Administration &amp; Office Suppor...</td>\n",
       "    </tr>\n",
       "    <tr>\n",
       "      <td>510</td>\n",
       "      <td>Customer Service</td>\n",
       "      <td>https://www.seek.co.nz/job/50532433?type=stand...</td>\n",
       "      <td>NaN</td>\n",
       "      <td>location: AucklandAucklandarea: Rodney &amp; North...</td>\n",
       "      <td>19d ago,at,Private Advertiser</td>\n",
       "      <td>classification: Administration &amp; Office Suppor...</td>\n",
       "    </tr>\n",
       "    <tr>\n",
       "      <td>560</td>\n",
       "      <td>Client Side Office Manager</td>\n",
       "      <td>https://www.seek.co.nz/job/50534335?type=stand...</td>\n",
       "      <td>NaN</td>\n",
       "      <td>location: AucklandAucklandarea: Auckland Centr...</td>\n",
       "      <td>19d ago,at,Private Advertiser</td>\n",
       "      <td>$40 - $45 per hour</td>\n",
       "    </tr>\n",
       "    <tr>\n",
       "      <td>623</td>\n",
       "      <td>Personal Assistant</td>\n",
       "      <td>https://www.seek.co.nz/job/50481163?type=stand...</td>\n",
       "      <td>NaN</td>\n",
       "      <td>location: AucklandAucklandarea: Manukau &amp; East...</td>\n",
       "      <td>28d ago,at,Private Advertiser</td>\n",
       "      <td>classification: Administration &amp; Office Suppor...</td>\n",
       "    </tr>\n",
       "    <tr>\n",
       "      <td>656</td>\n",
       "      <td>Card Fulfillment Officer</td>\n",
       "      <td>https://www.seek.co.nz/job/50513472?type=stand...</td>\n",
       "      <td>NaN</td>\n",
       "      <td>location: AucklandAucklandarea: Auckland Centr...</td>\n",
       "      <td>24d ago,at,Private Advertiser</td>\n",
       "      <td>$45,000 - $54,999</td>\n",
       "    </tr>\n",
       "  </tbody>\n",
       "</table>\n",
       "</div>"
      ],
      "text/plain": [
       "                                             job_title  \\\n",
       "0                                        Administrator   \n",
       "4                       Business Support Administrator   \n",
       "19                                       Administrator   \n",
       "60                                       Administrator   \n",
       "64            ADMINISTRATION SPECIALIST - CONSTRUCTION   \n",
       "67                                       Administrator   \n",
       "71                                       Administrator   \n",
       "95                                Export Admin Support   \n",
       "135                                Executive Assistant   \n",
       "187                     PERSONAL ASSISTANT - PART TIME   \n",
       "215                Time Target Rostering Administrator   \n",
       "297              Operations Coordinator - South Island   \n",
       "318                      Customer Service /Sales/Admin   \n",
       "385                                     Client Liaison   \n",
       "412  Executive Business Coordinator Cadetship - Gra...   \n",
       "437                    Receptionist / Office Assistant   \n",
       "446                                       Receptionist   \n",
       "470        Personal Assistant / Accounts Administrator   \n",
       "510                                   Customer Service   \n",
       "560                         Client Side Office Manager   \n",
       "623                                 Personal Assistant   \n",
       "656                           Card Fulfillment Officer   \n",
       "\n",
       "                                              job_link job_advertiser  \\\n",
       "0    https://www.seek.co.nz/job/50582301?type=promo...            NaN   \n",
       "4    https://www.seek.co.nz/job/50622432?type=stand...            NaN   \n",
       "19   https://www.seek.co.nz/job/50604829?type=stand...            NaN   \n",
       "60   https://www.seek.co.nz/job/50582301?type=stand...            NaN   \n",
       "64   https://www.seek.co.nz/job/50638765?type=stand...            NaN   \n",
       "67   https://www.seek.co.nz/job/50582301?type=promo...            NaN   \n",
       "71   https://www.seek.co.nz/job/50607763?type=stand...            NaN   \n",
       "95   https://www.seek.co.nz/job/50583111?type=stand...            NaN   \n",
       "135  https://www.seek.co.nz/job/50613522?type=stand...            NaN   \n",
       "187  https://www.seek.co.nz/job/50588220?type=stand...            NaN   \n",
       "215  https://www.seek.co.nz/job/50572487?type=stand...            NaN   \n",
       "297  https://www.seek.co.nz/job/50597654?type=stand...            NaN   \n",
       "318  https://www.seek.co.nz/job/50557862?type=stand...            NaN   \n",
       "385  https://www.seek.co.nz/job/50580821?type=stand...            NaN   \n",
       "412  https://www.seek.co.nz/job/50621110?type=stand...            NaN   \n",
       "437  https://www.seek.co.nz/job/50508458?type=stand...            NaN   \n",
       "446  https://www.seek.co.nz/job/50516951?type=stand...            NaN   \n",
       "470  https://www.seek.co.nz/job/50564784?type=stand...            NaN   \n",
       "510  https://www.seek.co.nz/job/50532433?type=stand...            NaN   \n",
       "560  https://www.seek.co.nz/job/50534335?type=stand...            NaN   \n",
       "623  https://www.seek.co.nz/job/50481163?type=stand...            NaN   \n",
       "656  https://www.seek.co.nz/job/50513472?type=stand...            NaN   \n",
       "\n",
       "                                              location  \\\n",
       "0    location: Bay of PlentyBay of Plentyarea: Taur...   \n",
       "4    location: CanterburyCanterburyarea: Christchur...   \n",
       "19   location: ManawatuManawatuarea: Rest of Manawa...   \n",
       "60   location: Bay of PlentyBay of Plentyarea: Taur...   \n",
       "64   location: AucklandAucklandarea: Rodney & North...   \n",
       "67   location: Bay of PlentyBay of Plentyarea: Taur...   \n",
       "71   location: AucklandAucklandarea: Rodney & North...   \n",
       "95   location: Hawkes BayHawkes Bayarea: HastingsHa...   \n",
       "135  location: AucklandAucklandarea: Manukau & East...   \n",
       "187  location: AucklandAucklandarea: Auckland Centr...   \n",
       "215  location: WaikatoWaikatoarea: Rest of WaikatoR...   \n",
       "297  location: CanterburyCanterburyarea: Christchur...   \n",
       "318  location: AucklandAucklandarea: Rodney & North...   \n",
       "385  location: TaranakiTaranakiarea: New PlymouthNe...   \n",
       "412  location: AucklandAucklandarea: Manukau & East...   \n",
       "437  location: AucklandAucklandarea: Auckland Centr...   \n",
       "446  location: WellingtonWellingtonarea: Hutt Valle...   \n",
       "470  location: Bay of PlentyBay of Plentyarea: Roto...   \n",
       "510  location: AucklandAucklandarea: Rodney & North...   \n",
       "560  location: AucklandAucklandarea: Auckland Centr...   \n",
       "623  location: AucklandAucklandarea: Manukau & East...   \n",
       "656  location: AucklandAucklandarea: Auckland Centr...   \n",
       "\n",
       "                      released_time  \\\n",
       "0    Featured,at,Private Advertiser   \n",
       "4      4d ago,at,Private Advertiser   \n",
       "19     7d ago,at,Private Advertiser   \n",
       "60    11d ago,at,Private Advertiser   \n",
       "64     5h ago,at,Private Advertiser   \n",
       "67   Featured,at,Private Advertiser   \n",
       "71     6d ago,at,Private Advertiser   \n",
       "95    11d ago,at,Private Advertiser   \n",
       "135    5d ago,at,Private Advertiser   \n",
       "187   10d ago,at,Private Advertiser   \n",
       "215   12d ago,at,Private Advertiser   \n",
       "297    7d ago,at,Private Advertiser   \n",
       "318   14d ago,at,Private Advertiser   \n",
       "385   11d ago,at,Private Advertiser   \n",
       "412    4d ago,at,Private Advertiser   \n",
       "437   24d ago,at,Private Advertiser   \n",
       "446   22d ago,at,Private Advertiser   \n",
       "470   13d ago,at,Private Advertiser   \n",
       "510   19d ago,at,Private Advertiser   \n",
       "560   19d ago,at,Private Advertiser   \n",
       "623   28d ago,at,Private Advertiser   \n",
       "656   24d ago,at,Private Advertiser   \n",
       "\n",
       "                                        classification  \n",
       "0    classification: Administration & Office Suppor...  \n",
       "4    classification: Administration & Office Suppor...  \n",
       "19   classification: Administration & Office Suppor...  \n",
       "60   classification: Administration & Office Suppor...  \n",
       "64   classification: Administration & Office Suppor...  \n",
       "67   classification: Administration & Office Suppor...  \n",
       "71   classification: Administration & Office Suppor...  \n",
       "95   classification: Administration & Office Suppor...  \n",
       "135  classification: Administration & Office Suppor...  \n",
       "187  classification: Administration & Office Suppor...  \n",
       "215  classification: Administration & Office Suppor...  \n",
       "297  classification: Administration & Office Suppor...  \n",
       "318                                  $40,000 - $49,999  \n",
       "385  classification: Administration & Office Suppor...  \n",
       "412  classification: Administration & Office Suppor...  \n",
       "437  classification: Administration & Office Suppor...  \n",
       "446  classification: Administration & Office Suppor...  \n",
       "470  classification: Administration & Office Suppor...  \n",
       "510  classification: Administration & Office Suppor...  \n",
       "560                                 $40 - $45 per hour  \n",
       "623  classification: Administration & Office Suppor...  \n",
       "656                                  $45,000 - $54,999  "
      ]
     },
     "execution_count": 6,
     "metadata": {},
     "output_type": "execute_result"
    }
   ],
   "source": [
    "#deal with missing value in \"job_advertiser\"\n",
    "df_admin.job_advertiser.isnull().sum()\n",
    "df_admin[df_admin['job_advertiser'].isnull()]"
   ]
  },
  {
   "cell_type": "code",
   "execution_count": 7,
   "metadata": {},
   "outputs": [
    {
     "data": {
      "text/plain": [
       "True"
      ]
     },
     "execution_count": 7,
     "metadata": {},
     "output_type": "execute_result"
    }
   ],
   "source": [
    "job_advertiser_missing = df_admin[df_admin['job_advertiser'].isnull()]\n",
    "pri_adv = df_admin[df_admin['released_time'].str.contains(\"Private Advertiser\")]\n",
    "job_advertiser_missing.equals(pri_adv )"
   ]
  },
  {
   "cell_type": "code",
   "execution_count": 8,
   "metadata": {
    "scrolled": true
   },
   "outputs": [
    {
     "data": {
      "text/plain": [
       "22"
      ]
     },
     "execution_count": 8,
     "metadata": {},
     "output_type": "execute_result"
    }
   ],
   "source": [
    "#approach 1: fill in missing value as 'unknown'\n",
    "# df_admin.job_advertiser.fillna('unknown', inplace=True)\n",
    "# df_admin.job_advertiser.isnull().sum()\n",
    "#approach 2: most possible value: 通过观察看出job_advertiser NnN的都是released_time中包含private_advertiser的\n",
    "df_admin.released_time.str.contains(\"Private Advertiser\").sum()\n",
    "#df_admin[df_admin['released_time'].str.contains(\"Private Advertiser\")].equals(df_admin[df_admin['job_advertiser'].isnull()])\n",
    "df_admin.job_advertiser.fillna('Private Advertiser', inplace=True)"
   ]
  },
  {
   "cell_type": "code",
   "execution_count": 9,
   "metadata": {},
   "outputs": [
    {
     "data": {
      "text/plain": [
       "0"
      ]
     },
     "execution_count": 9,
     "metadata": {},
     "output_type": "execute_result"
    },
    {
     "data": {
      "text/html": [
       "<div>\n",
       "<style scoped>\n",
       "    .dataframe tbody tr th:only-of-type {\n",
       "        vertical-align: middle;\n",
       "    }\n",
       "\n",
       "    .dataframe tbody tr th {\n",
       "        vertical-align: top;\n",
       "    }\n",
       "\n",
       "    .dataframe thead th {\n",
       "        text-align: right;\n",
       "    }\n",
       "</style>\n",
       "<table border=\"1\" class=\"dataframe\">\n",
       "  <thead>\n",
       "    <tr style=\"text-align: right;\">\n",
       "      <th></th>\n",
       "      <th>job_title</th>\n",
       "      <th>job_link</th>\n",
       "      <th>job_advertiser</th>\n",
       "      <th>location</th>\n",
       "      <th>released_time</th>\n",
       "      <th>classification</th>\n",
       "    </tr>\n",
       "  </thead>\n",
       "  <tbody>\n",
       "    <tr>\n",
       "      <td>0</td>\n",
       "      <td>Administrator</td>\n",
       "      <td>https://www.seek.co.nz/job/50582301?type=promo...</td>\n",
       "      <td>Private Advertiser</td>\n",
       "      <td>location: Bay of PlentyBay of Plentyarea: Taur...</td>\n",
       "      <td>Featured,at,Private Advertiser</td>\n",
       "      <td>classification: Administration &amp; Office Suppor...</td>\n",
       "    </tr>\n",
       "    <tr>\n",
       "      <td>1</td>\n",
       "      <td>Receptionist</td>\n",
       "      <td>https://www.seek.co.nz/job/50620889?type=promo...</td>\n",
       "      <td>Avenues Orthodontics</td>\n",
       "      <td>location: Bay of PlentyBay of Plentyarea: Taur...</td>\n",
       "      <td>Featured,at</td>\n",
       "      <td>classification: Administration &amp; Office Suppor...</td>\n",
       "    </tr>\n",
       "    <tr>\n",
       "      <td>2</td>\n",
       "      <td>Prosecutions Support Officer</td>\n",
       "      <td>https://www.seek.co.nz/job/50622169?type=stand...</td>\n",
       "      <td>New Zealand Police</td>\n",
       "      <td>location: AucklandAuckland</td>\n",
       "      <td>4d ago,at</td>\n",
       "      <td>classification: Administration &amp; Office Suppor...</td>\n",
       "    </tr>\n",
       "    <tr>\n",
       "      <td>3</td>\n",
       "      <td>Early Childhood Centre Administrator</td>\n",
       "      <td>https://www.seek.co.nz/job/50639620?type=stand...</td>\n",
       "      <td>Kew Pacific Island Early Learning Centre</td>\n",
       "      <td>location: SouthlandSouthlandarea: Invercargill...</td>\n",
       "      <td>1h ago,at</td>\n",
       "      <td>classification: Administration &amp; Office Suppor...</td>\n",
       "    </tr>\n",
       "    <tr>\n",
       "      <td>4</td>\n",
       "      <td>Business Support Administrator</td>\n",
       "      <td>https://www.seek.co.nz/job/50622432?type=stand...</td>\n",
       "      <td>Private Advertiser</td>\n",
       "      <td>location: CanterburyCanterburyarea: Christchur...</td>\n",
       "      <td>4d ago,at,Private Advertiser</td>\n",
       "      <td>classification: Administration &amp; Office Suppor...</td>\n",
       "    </tr>\n",
       "  </tbody>\n",
       "</table>\n",
       "</div>"
      ],
      "text/plain": [
       "                              job_title  \\\n",
       "0                         Administrator   \n",
       "1                          Receptionist   \n",
       "2          Prosecutions Support Officer   \n",
       "3  Early Childhood Centre Administrator   \n",
       "4        Business Support Administrator   \n",
       "\n",
       "                                            job_link  \\\n",
       "0  https://www.seek.co.nz/job/50582301?type=promo...   \n",
       "1  https://www.seek.co.nz/job/50620889?type=promo...   \n",
       "2  https://www.seek.co.nz/job/50622169?type=stand...   \n",
       "3  https://www.seek.co.nz/job/50639620?type=stand...   \n",
       "4  https://www.seek.co.nz/job/50622432?type=stand...   \n",
       "\n",
       "                             job_advertiser  \\\n",
       "0                        Private Advertiser   \n",
       "1                      Avenues Orthodontics   \n",
       "2                        New Zealand Police   \n",
       "3  Kew Pacific Island Early Learning Centre   \n",
       "4                        Private Advertiser   \n",
       "\n",
       "                                            location  \\\n",
       "0  location: Bay of PlentyBay of Plentyarea: Taur...   \n",
       "1  location: Bay of PlentyBay of Plentyarea: Taur...   \n",
       "2                         location: AucklandAuckland   \n",
       "3  location: SouthlandSouthlandarea: Invercargill...   \n",
       "4  location: CanterburyCanterburyarea: Christchur...   \n",
       "\n",
       "                    released_time  \\\n",
       "0  Featured,at,Private Advertiser   \n",
       "1                     Featured,at   \n",
       "2                       4d ago,at   \n",
       "3                       1h ago,at   \n",
       "4    4d ago,at,Private Advertiser   \n",
       "\n",
       "                                      classification  \n",
       "0  classification: Administration & Office Suppor...  \n",
       "1  classification: Administration & Office Suppor...  \n",
       "2  classification: Administration & Office Suppor...  \n",
       "3  classification: Administration & Office Suppor...  \n",
       "4  classification: Administration & Office Suppor...  "
      ]
     },
     "execution_count": 9,
     "metadata": {},
     "output_type": "execute_result"
    }
   ],
   "source": [
    "df_admin.job_advertiser.isnull().sum()\n",
    "df_admin.head()"
   ]
  },
  {
   "cell_type": "code",
   "execution_count": 10,
   "metadata": {
    "scrolled": true
   },
   "outputs": [
    {
     "data": {
      "text/plain": [
       "Beyond Recruitment - Winner – Best Innovation –2018 Global Recruiter Awards    285\n",
       "Asset Recruitment Ltd                                                          282\n",
       "GBL Personnel                                                                  218\n",
       "Alpha Recruitment - NZ                                                          76\n",
       "Adecco Office                                                                   74\n",
       "                                                                              ... \n",
       "Saint Kentigern Trust                                                            1\n",
       "Sikh Limited                                                                     1\n",
       "Togethr 2020 Ltd                                                                 1\n",
       "Extrastaff                                                                       1\n",
       "Wilson Group                                                                     1\n",
       "Name: job_advertiser, Length: 476, dtype: int64"
      ]
     },
     "execution_count": 10,
     "metadata": {},
     "output_type": "execute_result"
    }
   ],
   "source": [
    "df_admin['job_advertiser'].value_counts()"
   ]
  },
  {
   "cell_type": "markdown",
   "metadata": {},
   "source": [
    "## time_released\n",
    "\n",
    "**正则表达式** refer to: https://www.w3schools.com/python/python_regex.asp\n"
   ]
  },
  {
   "cell_type": "code",
   "execution_count": 11,
   "metadata": {},
   "outputs": [
    {
     "data": {
      "text/html": [
       "<div>\n",
       "<style scoped>\n",
       "    .dataframe tbody tr th:only-of-type {\n",
       "        vertical-align: middle;\n",
       "    }\n",
       "\n",
       "    .dataframe tbody tr th {\n",
       "        vertical-align: top;\n",
       "    }\n",
       "\n",
       "    .dataframe thead th {\n",
       "        text-align: right;\n",
       "    }\n",
       "</style>\n",
       "<table border=\"1\" class=\"dataframe\">\n",
       "  <thead>\n",
       "    <tr style=\"text-align: right;\">\n",
       "      <th></th>\n",
       "      <th>job_title</th>\n",
       "      <th>job_link</th>\n",
       "      <th>job_advertiser</th>\n",
       "      <th>location</th>\n",
       "      <th>released_time</th>\n",
       "      <th>classification</th>\n",
       "      <th>time</th>\n",
       "    </tr>\n",
       "  </thead>\n",
       "  <tbody>\n",
       "    <tr>\n",
       "      <td>0</td>\n",
       "      <td>Administrator</td>\n",
       "      <td>https://www.seek.co.nz/job/50582301?type=promo...</td>\n",
       "      <td>Private Advertiser</td>\n",
       "      <td>location: Bay of PlentyBay of Plentyarea: Taur...</td>\n",
       "      <td>Featured,at,Private Advertiser</td>\n",
       "      <td>classification: Administration &amp; Office Suppor...</td>\n",
       "      <td>0</td>\n",
       "    </tr>\n",
       "    <tr>\n",
       "      <td>1</td>\n",
       "      <td>Receptionist</td>\n",
       "      <td>https://www.seek.co.nz/job/50620889?type=promo...</td>\n",
       "      <td>Avenues Orthodontics</td>\n",
       "      <td>location: Bay of PlentyBay of Plentyarea: Taur...</td>\n",
       "      <td>Featured,at</td>\n",
       "      <td>classification: Administration &amp; Office Suppor...</td>\n",
       "      <td>0</td>\n",
       "    </tr>\n",
       "    <tr>\n",
       "      <td>2</td>\n",
       "      <td>Prosecutions Support Officer</td>\n",
       "      <td>https://www.seek.co.nz/job/50622169?type=stand...</td>\n",
       "      <td>New Zealand Police</td>\n",
       "      <td>location: AucklandAuckland</td>\n",
       "      <td>4d ago,at</td>\n",
       "      <td>classification: Administration &amp; Office Suppor...</td>\n",
       "      <td>4d</td>\n",
       "    </tr>\n",
       "    <tr>\n",
       "      <td>3</td>\n",
       "      <td>Early Childhood Centre Administrator</td>\n",
       "      <td>https://www.seek.co.nz/job/50639620?type=stand...</td>\n",
       "      <td>Kew Pacific Island Early Learning Centre</td>\n",
       "      <td>location: SouthlandSouthlandarea: Invercargill...</td>\n",
       "      <td>1h ago,at</td>\n",
       "      <td>classification: Administration &amp; Office Suppor...</td>\n",
       "      <td>1h</td>\n",
       "    </tr>\n",
       "    <tr>\n",
       "      <td>4</td>\n",
       "      <td>Business Support Administrator</td>\n",
       "      <td>https://www.seek.co.nz/job/50622432?type=stand...</td>\n",
       "      <td>Private Advertiser</td>\n",
       "      <td>location: CanterburyCanterburyarea: Christchur...</td>\n",
       "      <td>4d ago,at,Private Advertiser</td>\n",
       "      <td>classification: Administration &amp; Office Suppor...</td>\n",
       "      <td>4d</td>\n",
       "    </tr>\n",
       "  </tbody>\n",
       "</table>\n",
       "</div>"
      ],
      "text/plain": [
       "                              job_title  \\\n",
       "0                         Administrator   \n",
       "1                          Receptionist   \n",
       "2          Prosecutions Support Officer   \n",
       "3  Early Childhood Centre Administrator   \n",
       "4        Business Support Administrator   \n",
       "\n",
       "                                            job_link  \\\n",
       "0  https://www.seek.co.nz/job/50582301?type=promo...   \n",
       "1  https://www.seek.co.nz/job/50620889?type=promo...   \n",
       "2  https://www.seek.co.nz/job/50622169?type=stand...   \n",
       "3  https://www.seek.co.nz/job/50639620?type=stand...   \n",
       "4  https://www.seek.co.nz/job/50622432?type=stand...   \n",
       "\n",
       "                             job_advertiser  \\\n",
       "0                        Private Advertiser   \n",
       "1                      Avenues Orthodontics   \n",
       "2                        New Zealand Police   \n",
       "3  Kew Pacific Island Early Learning Centre   \n",
       "4                        Private Advertiser   \n",
       "\n",
       "                                            location  \\\n",
       "0  location: Bay of PlentyBay of Plentyarea: Taur...   \n",
       "1  location: Bay of PlentyBay of Plentyarea: Taur...   \n",
       "2                         location: AucklandAuckland   \n",
       "3  location: SouthlandSouthlandarea: Invercargill...   \n",
       "4  location: CanterburyCanterburyarea: Christchur...   \n",
       "\n",
       "                    released_time  \\\n",
       "0  Featured,at,Private Advertiser   \n",
       "1                     Featured,at   \n",
       "2                       4d ago,at   \n",
       "3                       1h ago,at   \n",
       "4    4d ago,at,Private Advertiser   \n",
       "\n",
       "                                      classification time  \n",
       "0  classification: Administration & Office Suppor...    0  \n",
       "1  classification: Administration & Office Suppor...    0  \n",
       "2  classification: Administration & Office Suppor...   4d  \n",
       "3  classification: Administration & Office Suppor...   1h  \n",
       "4  classification: Administration & Office Suppor...   4d  "
      ]
     },
     "execution_count": 11,
     "metadata": {},
     "output_type": "execute_result"
    }
   ],
   "source": [
    "#extract info from \"time_released\" into \"time_released\" and \"private advertiser\"\n",
    "#extract time,if contains number, return the number and the next character, otherwise return 0, i.e., treat \"featrued\" as 0\n",
    "def extract_time(x):\n",
    "    if re.match(r'(\\d+[a-z])\\s',x):\n",
    "        return re.match(r'(\\d+[a-z])\\s',x).group(1)\n",
    "    else:\n",
    "        return 0\n",
    "# extract_time('24d ago,at,Private Advertiser')\n",
    "# extract_time('4d ago,at,Private Advertiser')\n",
    "# extract_time('Featured,at,Private Advertiser')\n",
    "# 新增‘time'这列而不是直接在原列上替代 【‘job advertiser'缺失值的第三种方法，即released_time分为三部分，用最后一部分补充JA的缺失值】\n",
    "df_admin['time'] = df_admin.released_time.apply(extract_time)\n",
    "df_admin.head()"
   ]
  },
  {
   "cell_type": "code",
   "execution_count": 12,
   "metadata": {},
   "outputs": [
    {
     "data": {
      "text/plain": [
       "count     2708\n",
       "unique      38\n",
       "top        27d\n",
       "freq       572\n",
       "Name: time, dtype: object"
      ]
     },
     "execution_count": 12,
     "metadata": {},
     "output_type": "execute_result"
    },
    {
     "data": {
      "text/plain": [
       "time\n",
       "0       22\n",
       "10d     40\n",
       "11d     39\n",
       "11m      1\n",
       "12d     41\n",
       "13d     34\n",
       "14d     93\n",
       "16d      2\n",
       "17d     33\n",
       "18d     20\n",
       "19d     21\n",
       "1h       1\n",
       "20d    164\n",
       "21d     92\n",
       "22d      5\n",
       "23d      2\n",
       "24d    115\n",
       "25d    154\n",
       "26d    295\n",
       "27d    572\n",
       "28d    433\n",
       "29d      1\n",
       "2d       3\n",
       "2h       3\n",
       "30d     71\n",
       "3d      60\n",
       "3h       1\n",
       "4d     116\n",
       "4h       4\n",
       "59m      1\n",
       "5d      55\n",
       "5h       2\n",
       "6d      70\n",
       "7d     133\n",
       "7m       2\n",
       "8d       4\n",
       "9d       2\n",
       "9m       1\n",
       "dtype: int64"
      ]
     },
     "execution_count": 12,
     "metadata": {},
     "output_type": "execute_result"
    }
   ],
   "source": [
    "df_admin.time.describe()\n",
    "df_admin.groupby('time').size()"
   ]
  },
  {
   "cell_type": "code",
   "execution_count": 13,
   "metadata": {},
   "outputs": [],
   "source": [
    "# convert contents in 'time' into unified time with 'day' as a unified unit of measurement\n",
    "# 'm' is treated as 'minute'\n",
    "def convert_time(x):\n",
    "    if 'd' not in x:\n",
    "        return 0\n",
    "    else:\n",
    "        day = int(x[:-1])\n",
    "        return day\n",
    "        \n",
    "# convert_time('0')\n",
    "# convert_time('59m')\n",
    "# convert_time('1h')\n",
    "# convert_time('7d')\n",
    "# convert_time('22d')\n",
    "df_admin.time = df_admin.time.astype(str)\n",
    "df_admin.time = df_admin.time.apply(convert_time)"
   ]
  },
  {
   "cell_type": "code",
   "execution_count": 14,
   "metadata": {},
   "outputs": [
    {
     "data": {
      "text/plain": [
       "count    2708.000000\n",
       "mean       20.723043\n",
       "std         8.718609\n",
       "min         0.000000\n",
       "25%        14.000000\n",
       "50%        26.000000\n",
       "75%        27.000000\n",
       "max        30.000000\n",
       "Name: time, dtype: float64"
      ]
     },
     "execution_count": 14,
     "metadata": {},
     "output_type": "execute_result"
    },
    {
     "data": {
      "text/plain": [
       "time\n",
       "0      38\n",
       "2       3\n",
       "3      60\n",
       "4     116\n",
       "5      55\n",
       "6      70\n",
       "7     133\n",
       "8       4\n",
       "9       2\n",
       "10     40\n",
       "11     39\n",
       "12     41\n",
       "13     34\n",
       "14     93\n",
       "16      2\n",
       "17     33\n",
       "18     20\n",
       "19     21\n",
       "20    164\n",
       "21     92\n",
       "22      5\n",
       "23      2\n",
       "24    115\n",
       "25    154\n",
       "26    295\n",
       "27    572\n",
       "28    433\n",
       "29      1\n",
       "30     71\n",
       "dtype: int64"
      ]
     },
     "execution_count": 14,
     "metadata": {},
     "output_type": "execute_result"
    }
   ],
   "source": [
    "df_admin.time.describe()\n",
    "df_admin.groupby('time').size()"
   ]
  },
  {
   "cell_type": "code",
   "execution_count": 15,
   "metadata": {},
   "outputs": [
    {
     "data": {
      "text/html": [
       "<div>\n",
       "<style scoped>\n",
       "    .dataframe tbody tr th:only-of-type {\n",
       "        vertical-align: middle;\n",
       "    }\n",
       "\n",
       "    .dataframe tbody tr th {\n",
       "        vertical-align: top;\n",
       "    }\n",
       "\n",
       "    .dataframe thead th {\n",
       "        text-align: right;\n",
       "    }\n",
       "</style>\n",
       "<table border=\"1\" class=\"dataframe\">\n",
       "  <thead>\n",
       "    <tr style=\"text-align: right;\">\n",
       "      <th></th>\n",
       "      <th>job_title</th>\n",
       "      <th>job_link</th>\n",
       "      <th>job_advertiser</th>\n",
       "      <th>location</th>\n",
       "      <th>released_time</th>\n",
       "      <th>classification</th>\n",
       "      <th>time</th>\n",
       "    </tr>\n",
       "  </thead>\n",
       "  <tbody>\n",
       "    <tr>\n",
       "      <td>0</td>\n",
       "      <td>Administrator</td>\n",
       "      <td>https://www.seek.co.nz/job/50582301?type=promo...</td>\n",
       "      <td>Private Advertiser</td>\n",
       "      <td>location: Bay of PlentyBay of Plentyarea: Taur...</td>\n",
       "      <td>Featured,at,Private Advertiser</td>\n",
       "      <td>classification: Administration &amp; Office Suppor...</td>\n",
       "      <td>0</td>\n",
       "    </tr>\n",
       "    <tr>\n",
       "      <td>1</td>\n",
       "      <td>Receptionist</td>\n",
       "      <td>https://www.seek.co.nz/job/50620889?type=promo...</td>\n",
       "      <td>Avenues Orthodontics</td>\n",
       "      <td>location: Bay of PlentyBay of Plentyarea: Taur...</td>\n",
       "      <td>Featured,at</td>\n",
       "      <td>classification: Administration &amp; Office Suppor...</td>\n",
       "      <td>0</td>\n",
       "    </tr>\n",
       "    <tr>\n",
       "      <td>2</td>\n",
       "      <td>Prosecutions Support Officer</td>\n",
       "      <td>https://www.seek.co.nz/job/50622169?type=stand...</td>\n",
       "      <td>New Zealand Police</td>\n",
       "      <td>location: AucklandAuckland</td>\n",
       "      <td>4d ago,at</td>\n",
       "      <td>classification: Administration &amp; Office Suppor...</td>\n",
       "      <td>4</td>\n",
       "    </tr>\n",
       "    <tr>\n",
       "      <td>3</td>\n",
       "      <td>Early Childhood Centre Administrator</td>\n",
       "      <td>https://www.seek.co.nz/job/50639620?type=stand...</td>\n",
       "      <td>Kew Pacific Island Early Learning Centre</td>\n",
       "      <td>location: SouthlandSouthlandarea: Invercargill...</td>\n",
       "      <td>1h ago,at</td>\n",
       "      <td>classification: Administration &amp; Office Suppor...</td>\n",
       "      <td>0</td>\n",
       "    </tr>\n",
       "    <tr>\n",
       "      <td>4</td>\n",
       "      <td>Business Support Administrator</td>\n",
       "      <td>https://www.seek.co.nz/job/50622432?type=stand...</td>\n",
       "      <td>Private Advertiser</td>\n",
       "      <td>location: CanterburyCanterburyarea: Christchur...</td>\n",
       "      <td>4d ago,at,Private Advertiser</td>\n",
       "      <td>classification: Administration &amp; Office Suppor...</td>\n",
       "      <td>4</td>\n",
       "    </tr>\n",
       "  </tbody>\n",
       "</table>\n",
       "</div>"
      ],
      "text/plain": [
       "                              job_title  \\\n",
       "0                         Administrator   \n",
       "1                          Receptionist   \n",
       "2          Prosecutions Support Officer   \n",
       "3  Early Childhood Centre Administrator   \n",
       "4        Business Support Administrator   \n",
       "\n",
       "                                            job_link  \\\n",
       "0  https://www.seek.co.nz/job/50582301?type=promo...   \n",
       "1  https://www.seek.co.nz/job/50620889?type=promo...   \n",
       "2  https://www.seek.co.nz/job/50622169?type=stand...   \n",
       "3  https://www.seek.co.nz/job/50639620?type=stand...   \n",
       "4  https://www.seek.co.nz/job/50622432?type=stand...   \n",
       "\n",
       "                             job_advertiser  \\\n",
       "0                        Private Advertiser   \n",
       "1                      Avenues Orthodontics   \n",
       "2                        New Zealand Police   \n",
       "3  Kew Pacific Island Early Learning Centre   \n",
       "4                        Private Advertiser   \n",
       "\n",
       "                                            location  \\\n",
       "0  location: Bay of PlentyBay of Plentyarea: Taur...   \n",
       "1  location: Bay of PlentyBay of Plentyarea: Taur...   \n",
       "2                         location: AucklandAuckland   \n",
       "3  location: SouthlandSouthlandarea: Invercargill...   \n",
       "4  location: CanterburyCanterburyarea: Christchur...   \n",
       "\n",
       "                    released_time  \\\n",
       "0  Featured,at,Private Advertiser   \n",
       "1                     Featured,at   \n",
       "2                       4d ago,at   \n",
       "3                       1h ago,at   \n",
       "4    4d ago,at,Private Advertiser   \n",
       "\n",
       "                                      classification  time  \n",
       "0  classification: Administration & Office Suppor...     0  \n",
       "1  classification: Administration & Office Suppor...     0  \n",
       "2  classification: Administration & Office Suppor...     4  \n",
       "3  classification: Administration & Office Suppor...     0  \n",
       "4  classification: Administration & Office Suppor...     4  "
      ]
     },
     "execution_count": 15,
     "metadata": {},
     "output_type": "execute_result"
    }
   ],
   "source": [
    "df_admin.head()"
   ]
  },
  {
   "cell_type": "markdown",
   "metadata": {},
   "source": [
    "## locations"
   ]
  },
  {
   "cell_type": "code",
   "execution_count": 16,
   "metadata": {},
   "outputs": [
    {
     "data": {
      "text/plain": [
       "'location: Bay of PlentyBay of Plentyarea: TaurangaTauranga'"
      ]
     },
     "execution_count": 16,
     "metadata": {},
     "output_type": "execute_result"
    }
   ],
   "source": [
    "#data cleaning for \"location\"\n",
    "df_admin['location'][0 ] "
   ]
  },
  {
   "cell_type": "code",
   "execution_count": 17,
   "metadata": {},
   "outputs": [
    {
     "data": {
      "text/plain": [
       "147"
      ]
     },
     "execution_count": 17,
     "metadata": {},
     "output_type": "execute_result"
    }
   ],
   "source": [
    "len(df_admin.location.unique())"
   ]
  },
  {
   "cell_type": "code",
   "execution_count": 18,
   "metadata": {},
   "outputs": [
    {
     "data": {
      "text/html": [
       "<div>\n",
       "<style scoped>\n",
       "    .dataframe tbody tr th:only-of-type {\n",
       "        vertical-align: middle;\n",
       "    }\n",
       "\n",
       "    .dataframe tbody tr th {\n",
       "        vertical-align: top;\n",
       "    }\n",
       "\n",
       "    .dataframe thead th {\n",
       "        text-align: right;\n",
       "    }\n",
       "</style>\n",
       "<table border=\"1\" class=\"dataframe\">\n",
       "  <thead>\n",
       "    <tr style=\"text-align: right;\">\n",
       "      <th></th>\n",
       "      <th>job_title</th>\n",
       "      <th>job_link</th>\n",
       "      <th>job_advertiser</th>\n",
       "      <th>location</th>\n",
       "      <th>released_time</th>\n",
       "      <th>classification</th>\n",
       "      <th>time</th>\n",
       "      <th>area</th>\n",
       "    </tr>\n",
       "  </thead>\n",
       "  <tbody>\n",
       "    <tr>\n",
       "      <td>0</td>\n",
       "      <td>Administrator</td>\n",
       "      <td>https://www.seek.co.nz/job/50582301?type=promo...</td>\n",
       "      <td>Private Advertiser</td>\n",
       "      <td>location: Bay of PlentyBay of Plenty</td>\n",
       "      <td>Featured,at,Private Advertiser</td>\n",
       "      <td>classification: Administration &amp; Office Suppor...</td>\n",
       "      <td>0</td>\n",
       "      <td>TaurangaTauranga</td>\n",
       "    </tr>\n",
       "    <tr>\n",
       "      <td>1</td>\n",
       "      <td>Receptionist</td>\n",
       "      <td>https://www.seek.co.nz/job/50620889?type=promo...</td>\n",
       "      <td>Avenues Orthodontics</td>\n",
       "      <td>location: Bay of PlentyBay of Plenty</td>\n",
       "      <td>Featured,at</td>\n",
       "      <td>classification: Administration &amp; Office Suppor...</td>\n",
       "      <td>0</td>\n",
       "      <td>TaurangaTauranga</td>\n",
       "    </tr>\n",
       "    <tr>\n",
       "      <td>2</td>\n",
       "      <td>Prosecutions Support Officer</td>\n",
       "      <td>https://www.seek.co.nz/job/50622169?type=stand...</td>\n",
       "      <td>New Zealand Police</td>\n",
       "      <td>location: AucklandAuckland</td>\n",
       "      <td>4d ago,at</td>\n",
       "      <td>classification: Administration &amp; Office Suppor...</td>\n",
       "      <td>4</td>\n",
       "      <td>None</td>\n",
       "    </tr>\n",
       "    <tr>\n",
       "      <td>3</td>\n",
       "      <td>Early Childhood Centre Administrator</td>\n",
       "      <td>https://www.seek.co.nz/job/50639620?type=stand...</td>\n",
       "      <td>Kew Pacific Island Early Learning Centre</td>\n",
       "      <td>location: SouthlandSouthland</td>\n",
       "      <td>1h ago,at</td>\n",
       "      <td>classification: Administration &amp; Office Suppor...</td>\n",
       "      <td>0</td>\n",
       "      <td>InvercargillInvercargill</td>\n",
       "    </tr>\n",
       "    <tr>\n",
       "      <td>4</td>\n",
       "      <td>Business Support Administrator</td>\n",
       "      <td>https://www.seek.co.nz/job/50622432?type=stand...</td>\n",
       "      <td>Private Advertiser</td>\n",
       "      <td>location: CanterburyCanterbury</td>\n",
       "      <td>4d ago,at,Private Advertiser</td>\n",
       "      <td>classification: Administration &amp; Office Suppor...</td>\n",
       "      <td>4</td>\n",
       "      <td>ChristchurchChristchurch</td>\n",
       "    </tr>\n",
       "  </tbody>\n",
       "</table>\n",
       "</div>"
      ],
      "text/plain": [
       "                              job_title  \\\n",
       "0                         Administrator   \n",
       "1                          Receptionist   \n",
       "2          Prosecutions Support Officer   \n",
       "3  Early Childhood Centre Administrator   \n",
       "4        Business Support Administrator   \n",
       "\n",
       "                                            job_link  \\\n",
       "0  https://www.seek.co.nz/job/50582301?type=promo...   \n",
       "1  https://www.seek.co.nz/job/50620889?type=promo...   \n",
       "2  https://www.seek.co.nz/job/50622169?type=stand...   \n",
       "3  https://www.seek.co.nz/job/50639620?type=stand...   \n",
       "4  https://www.seek.co.nz/job/50622432?type=stand...   \n",
       "\n",
       "                             job_advertiser  \\\n",
       "0                        Private Advertiser   \n",
       "1                      Avenues Orthodontics   \n",
       "2                        New Zealand Police   \n",
       "3  Kew Pacific Island Early Learning Centre   \n",
       "4                        Private Advertiser   \n",
       "\n",
       "                               location                   released_time  \\\n",
       "0  location: Bay of PlentyBay of Plenty  Featured,at,Private Advertiser   \n",
       "1  location: Bay of PlentyBay of Plenty                     Featured,at   \n",
       "2            location: AucklandAuckland                       4d ago,at   \n",
       "3          location: SouthlandSouthland                       1h ago,at   \n",
       "4        location: CanterburyCanterbury    4d ago,at,Private Advertiser   \n",
       "\n",
       "                                      classification  time  \\\n",
       "0  classification: Administration & Office Suppor...     0   \n",
       "1  classification: Administration & Office Suppor...     0   \n",
       "2  classification: Administration & Office Suppor...     4   \n",
       "3  classification: Administration & Office Suppor...     0   \n",
       "4  classification: Administration & Office Suppor...     4   \n",
       "\n",
       "                        area  \n",
       "0           TaurangaTauranga  \n",
       "1           TaurangaTauranga  \n",
       "2                       None  \n",
       "3   InvercargillInvercargill  \n",
       "4   ChristchurchChristchurch  "
      ]
     },
     "execution_count": 18,
     "metadata": {},
     "output_type": "execute_result"
    }
   ],
   "source": [
    "df_admin[['location', 'area']] = df_admin.location.str.split('area:', expand=True)\n",
    "df_admin.head()"
   ]
  },
  {
   "cell_type": "code",
   "execution_count": 19,
   "metadata": {},
   "outputs": [],
   "source": [
    "df_admin.location = df_admin.location.str.replace('location:','')"
   ]
  },
  {
   "cell_type": "code",
   "execution_count": 20,
   "metadata": {},
   "outputs": [
    {
     "data": {
      "text/plain": [
       "array([' Bay of PlentyBay of Plenty', ' AucklandAuckland',\n",
       "       ' SouthlandSouthland', ' CanterburyCanterbury',\n",
       "       ' NorthlandNorthland', ' WellingtonWellington',\n",
       "       ' West CoastWest Coast', ' TasmanTasman', ' ManawatuManawatu',\n",
       "       ' WaikatoWaikato', ' Hawkes BayHawkes Bay', ' OtagoOtago',\n",
       "       ' TaranakiTaranaki', ' MarlboroughMarlborough',\n",
       "       ' GisborneGisborne', ' WellingtonWellington,$75k - $85k p.a.',\n",
       "       ' WellingtonWellington,Up to $22.00 p.h.',\n",
       "       ' AucklandAuckland,$21 - $22 p.h. + 8% Holiday Pay',\n",
       "       ' WellingtonWellington,$50k - $65k p.a. + plus kiwisaver',\n",
       "       ' AucklandAuckland,$70-$80k+Super',\n",
       "       ' WellingtonWellington,$20 - $30 per hour',\n",
       "       ' WellingtonWellington,Attractive remuneration'], dtype=object)"
      ]
     },
     "execution_count": 20,
     "metadata": {},
     "output_type": "execute_result"
    },
    {
     "data": {
      "text/plain": [
       "22"
      ]
     },
     "execution_count": 20,
     "metadata": {},
     "output_type": "execute_result"
    }
   ],
   "source": [
    "df_admin.location.unique()\n",
    "len(df_admin.location.unique())"
   ]
  },
  {
   "cell_type": "code",
   "execution_count": 21,
   "metadata": {},
   "outputs": [],
   "source": [
    "df_admin[['location','locationN']] = df_admin.location.str.split(',', expand=True)"
   ]
  },
  {
   "cell_type": "code",
   "execution_count": 22,
   "metadata": {},
   "outputs": [
    {
     "data": {
      "text/html": [
       "<div>\n",
       "<style scoped>\n",
       "    .dataframe tbody tr th:only-of-type {\n",
       "        vertical-align: middle;\n",
       "    }\n",
       "\n",
       "    .dataframe tbody tr th {\n",
       "        vertical-align: top;\n",
       "    }\n",
       "\n",
       "    .dataframe thead th {\n",
       "        text-align: right;\n",
       "    }\n",
       "</style>\n",
       "<table border=\"1\" class=\"dataframe\">\n",
       "  <thead>\n",
       "    <tr style=\"text-align: right;\">\n",
       "      <th></th>\n",
       "      <th>job_title</th>\n",
       "      <th>job_link</th>\n",
       "      <th>job_advertiser</th>\n",
       "      <th>location</th>\n",
       "      <th>released_time</th>\n",
       "      <th>classification</th>\n",
       "      <th>time</th>\n",
       "      <th>area</th>\n",
       "    </tr>\n",
       "  </thead>\n",
       "  <tbody>\n",
       "    <tr>\n",
       "      <td>0</td>\n",
       "      <td>Administrator</td>\n",
       "      <td>https://www.seek.co.nz/job/50582301?type=promo...</td>\n",
       "      <td>Private Advertiser</td>\n",
       "      <td>Bay of PlentyBay of Plenty</td>\n",
       "      <td>Featured,at,Private Advertiser</td>\n",
       "      <td>classification: Administration &amp; Office Suppor...</td>\n",
       "      <td>0</td>\n",
       "      <td>TaurangaTauranga</td>\n",
       "    </tr>\n",
       "    <tr>\n",
       "      <td>1</td>\n",
       "      <td>Receptionist</td>\n",
       "      <td>https://www.seek.co.nz/job/50620889?type=promo...</td>\n",
       "      <td>Avenues Orthodontics</td>\n",
       "      <td>Bay of PlentyBay of Plenty</td>\n",
       "      <td>Featured,at</td>\n",
       "      <td>classification: Administration &amp; Office Suppor...</td>\n",
       "      <td>0</td>\n",
       "      <td>TaurangaTauranga</td>\n",
       "    </tr>\n",
       "  </tbody>\n",
       "</table>\n",
       "</div>"
      ],
      "text/plain": [
       "       job_title                                           job_link  \\\n",
       "0  Administrator  https://www.seek.co.nz/job/50582301?type=promo...   \n",
       "1   Receptionist  https://www.seek.co.nz/job/50620889?type=promo...   \n",
       "\n",
       "         job_advertiser                     location  \\\n",
       "0    Private Advertiser   Bay of PlentyBay of Plenty   \n",
       "1  Avenues Orthodontics   Bay of PlentyBay of Plenty   \n",
       "\n",
       "                    released_time  \\\n",
       "0  Featured,at,Private Advertiser   \n",
       "1                     Featured,at   \n",
       "\n",
       "                                      classification  time               area  \n",
       "0  classification: Administration & Office Suppor...     0   TaurangaTauranga  \n",
       "1  classification: Administration & Office Suppor...     0   TaurangaTauranga  "
      ]
     },
     "execution_count": 22,
     "metadata": {},
     "output_type": "execute_result"
    }
   ],
   "source": [
    "df_admin.drop('locationN', inplace=True, axis=1)\n",
    "df_admin.head(2)"
   ]
  },
  {
   "cell_type": "code",
   "execution_count": 23,
   "metadata": {},
   "outputs": [
    {
     "data": {
      "text/plain": [
       "array([' Bay of PlentyBay of Plenty', ' AucklandAuckland',\n",
       "       ' SouthlandSouthland', ' CanterburyCanterbury',\n",
       "       ' NorthlandNorthland', ' WellingtonWellington',\n",
       "       ' West CoastWest Coast', ' TasmanTasman', ' ManawatuManawatu',\n",
       "       ' WaikatoWaikato', ' Hawkes BayHawkes Bay', ' OtagoOtago',\n",
       "       ' TaranakiTaranaki', ' MarlboroughMarlborough',\n",
       "       ' GisborneGisborne'], dtype=object)"
      ]
     },
     "execution_count": 23,
     "metadata": {},
     "output_type": "execute_result"
    },
    {
     "data": {
      "text/plain": [
       "15"
      ]
     },
     "execution_count": 23,
     "metadata": {},
     "output_type": "execute_result"
    }
   ],
   "source": [
    "df_admin.location.unique()\n",
    "len(df_admin.location.unique())"
   ]
  },
  {
   "cell_type": "code",
   "execution_count": 24,
   "metadata": {},
   "outputs": [
    {
     "data": {
      "text/plain": [
       "135"
      ]
     },
     "execution_count": 24,
     "metadata": {},
     "output_type": "execute_result"
    }
   ],
   "source": [
    "len(df_admin.area.unique())"
   ]
  },
  {
   "cell_type": "code",
   "execution_count": 25,
   "metadata": {},
   "outputs": [],
   "source": [
    "#\"area\": some rows with salary info, delete these info\n",
    "df_admin[['area','saTemp']] = df_admin.area.str.split(',',n=1, expand=True)"
   ]
  },
  {
   "cell_type": "code",
   "execution_count": 26,
   "metadata": {},
   "outputs": [],
   "source": [
    "df_admin.drop('saTemp', inplace=True, axis=1)"
   ]
  },
  {
   "cell_type": "code",
   "execution_count": 27,
   "metadata": {},
   "outputs": [
    {
     "data": {
      "text/plain": [
       "39"
      ]
     },
     "execution_count": 27,
     "metadata": {},
     "output_type": "execute_result"
    }
   ],
   "source": [
    "len(df_admin.area.unique())"
   ]
  },
  {
   "cell_type": "code",
   "execution_count": 28,
   "metadata": {},
   "outputs": [],
   "source": [
    "#remove the duplicated contents in \"location\", \"area\"\n",
    "df_admin.location = df_admin.location.astype(str)\n",
    "df_admin.area = df_admin.area.astype(str)\n",
    "#approach1\n",
    "# df_admin.location = df_admin.location.apply(deduplication)\n",
    "# df_admin.area = df_admin.area.apply(deduplication)\n",
    "#approach2\n",
    "df_admin.location = df_admin.location.apply(deduplication_impr)\n",
    "df_admin.area = df_admin.area.apply(deduplication_impr)"
   ]
  },
  {
   "cell_type": "code",
   "execution_count": 29,
   "metadata": {},
   "outputs": [
    {
     "data": {
      "text/plain": [
       "array(['Bay of Plenty', 'Auckland', 'Southland', 'Canterbury',\n",
       "       'Northland', 'Wellington', 'West Coast', 'Tasman', 'Manawatu',\n",
       "       'Waikato', 'Hawkes Bay', 'Otago', 'Taranaki', 'Marlborough',\n",
       "       'Gisborne'], dtype=object)"
      ]
     },
     "execution_count": 29,
     "metadata": {},
     "output_type": "execute_result"
    },
    {
     "data": {
      "text/plain": [
       "15"
      ]
     },
     "execution_count": 29,
     "metadata": {},
     "output_type": "execute_result"
    },
    {
     "data": {
      "text/plain": [
       "array(['Tauranga', 'None', 'Invercargill', 'Christchurch', 'Whangarei',\n",
       "       'Wellington Central', 'Rotorua', 'Rest of West Coast', 'Nelson',\n",
       "       'Manukau & East Auckland', 'Rest of Canterbury',\n",
       "       'Timaru & South Canterbury', 'Auckland Central',\n",
       "       'Rest of Manawatu', 'Papakura & Franklin', 'Rodney & North Shore',\n",
       "       'Rest of Waikato', 'Hastings', 'Queenstown & Wanaka',\n",
       "       'Rest of Otago', 'Hamilton', 'Hutt Valley', 'New Plymouth',\n",
       "       'Palmerston North', 'Waitakere & West Auckland',\n",
       "       'Rest of Taranaki', 'Dunedin', 'Rest of Bay of Plenty', 'Blenheim',\n",
       "       'Thames & Coromandel', 'Rest of Tasman', 'Napier',\n",
       "       'Rest of Hawkes Bay', 'Gisborne', 'Rest of Northland',\n",
       "       'Porirua & Kapiti Coast', 'Rest of Wellington Region', 'Wanganui',\n",
       "       'Taupo'], dtype=object)"
      ]
     },
     "execution_count": 29,
     "metadata": {},
     "output_type": "execute_result"
    },
    {
     "data": {
      "text/plain": [
       "39"
      ]
     },
     "execution_count": 29,
     "metadata": {},
     "output_type": "execute_result"
    }
   ],
   "source": [
    "# final for \"location\" and \"area\"\n",
    "df_admin.location.unique()\n",
    "len(df_admin.location.unique())\n",
    "df_admin.area.unique()\n",
    "len(df_admin.area.unique())"
   ]
  },
  {
   "cell_type": "code",
   "execution_count": 30,
   "metadata": {},
   "outputs": [
    {
     "data": {
      "text/plain": [
       "Auckland         891\n",
       "Wellington       854\n",
       "Waikato          404\n",
       "Canterbury       203\n",
       "Bay of Plenty     93\n",
       "Manawatu          92\n",
       "Northland         78\n",
       "Otago             40\n",
       "Hawkes Bay        19\n",
       "Taranaki          10\n",
       "Tasman             8\n",
       "Southland          7\n",
       "Gisborne           4\n",
       "Marlborough        4\n",
       "West Coast         1\n",
       "Name: location, dtype: int64"
      ]
     },
     "execution_count": 30,
     "metadata": {},
     "output_type": "execute_result"
    }
   ],
   "source": [
    "df_admin['location'].value_counts()"
   ]
  },
  {
   "cell_type": "code",
   "execution_count": 31,
   "metadata": {},
   "outputs": [
    {
     "data": {
      "text/plain": [
       "Auckland Central             751\n",
       "None                         541\n",
       "Hamilton                     318\n",
       "Wellington Central           310\n",
       "Christchurch                 184\n",
       "Rest of Waikato               79\n",
       "Rest of Northland             74\n",
       "Rest of Manawatu              73\n",
       "Manukau & East Auckland       56\n",
       "Rotorua                       46\n",
       "Rodney & North Shore          41\n",
       "Tauranga                      38\n",
       "Dunedin                       30\n",
       "Palmerston North              17\n",
       "Hutt Valley                   14\n",
       "Timaru & South Canterbury     14\n",
       "Waitakere & West Auckland     14\n",
       "Papakura & Franklin           11\n",
       "Hastings                       9\n",
       "New Plymouth                   8\n",
       "Rest of Bay of Plenty          8\n",
       "Invercargill                   7\n",
       "Nelson                         6\n",
       "Napier                         6\n",
       "Rest of Wellington Region      6\n",
       "Queenstown & Wanaka            6\n",
       "Thames & Coromandel            6\n",
       "Porirua & Kapiti Coast         5\n",
       "Rest of Canterbury             4\n",
       "Rest of Otago                  4\n",
       "Whangarei                      4\n",
       "Gisborne                       4\n",
       "Rest of Hawkes Bay             4\n",
       "Blenheim                       3\n",
       "Rest of Taranaki               2\n",
       "Rest of Tasman                 2\n",
       "Wanganui                       1\n",
       "Rest of West Coast             1\n",
       "Taupo                          1\n",
       "Name: area, dtype: int64"
      ]
     },
     "execution_count": 31,
     "metadata": {},
     "output_type": "execute_result"
    }
   ],
   "source": [
    "df_admin['area'].value_counts()"
   ]
  },
  {
   "cell_type": "markdown",
   "metadata": {},
   "source": [
    "## classification\n"
   ]
  },
  {
   "cell_type": "code",
   "execution_count": 32,
   "metadata": {},
   "outputs": [
    {
     "data": {
      "text/plain": [
       "0     classification: Administration & Office Suppor...\n",
       "1     classification: Administration & Office Suppor...\n",
       "2     classification: Administration & Office Suppor...\n",
       "3     classification: Administration & Office Suppor...\n",
       "4     classification: Administration & Office Suppor...\n",
       "5     classification: Administration & Office Suppor...\n",
       "6     classification: Administration & Office Suppor...\n",
       "7     classification: Administration & Office Suppor...\n",
       "8     classification: Administration & Office Suppor...\n",
       "9     classification: Administration & Office Suppor...\n",
       "10    classification: Administration & Office Suppor...\n",
       "11    classification: Administration & Office Suppor...\n",
       "12                                         $20 per hour\n",
       "13    classification: Administration & Office Suppor...\n",
       "14    classification: Administration & Office Suppor...\n",
       "15    classification: Administration & Office Suppor...\n",
       "16    classification: Administration & Office Suppor...\n",
       "17                                $20 - $24.99 per hour\n",
       "18    classification: Administration & Office Suppor...\n",
       "19    classification: Administration & Office Suppor...\n",
       "Name: classification, dtype: object"
      ]
     },
     "execution_count": 32,
     "metadata": {},
     "output_type": "execute_result"
    },
    {
     "data": {
      "text/plain": [
       "93"
      ]
     },
     "execution_count": 32,
     "metadata": {},
     "output_type": "execute_result"
    }
   ],
   "source": [
    "df_admin['classification'][0:20 ]\n",
    "len(df_admin.classification.unique())"
   ]
  },
  {
   "cell_type": "code",
   "execution_count": 33,
   "metadata": {},
   "outputs": [
    {
     "data": {
      "text/plain": [
       "'$20 - $24.99 per hour'"
      ]
     },
     "execution_count": 33,
     "metadata": {},
     "output_type": "execute_result"
    },
    {
     "name": "stdout",
     "output_type": "stream",
     "text": [
      "unknown\n"
     ]
    }
   ],
   "source": [
    "# extract 'salary' from 'classification'\n",
    "def extract_salary(cl):\n",
    "    if 'classification:' in cl:\n",
    "        return 'unknown'\n",
    "    else:\n",
    "        return cl\n",
    "extract_salary('$20 - $24.99 per hour')\n",
    "print(extract_salary('classification: Administration & Office Suppor...'))"
   ]
  },
  {
   "cell_type": "code",
   "execution_count": 34,
   "metadata": {},
   "outputs": [],
   "source": [
    "df_admin['salary'] = df_admin.classification.apply(extract_salary)"
   ]
  },
  {
   "cell_type": "code",
   "execution_count": 35,
   "metadata": {},
   "outputs": [
    {
     "data": {
      "text/plain": [
       "count        2708\n",
       "unique         85\n",
       "top       unknown\n",
       "freq         2105\n",
       "Name: salary, dtype: object"
      ]
     },
     "execution_count": 35,
     "metadata": {},
     "output_type": "execute_result"
    }
   ],
   "source": [
    "df_admin.salary.describe()"
   ]
  },
  {
   "cell_type": "code",
   "execution_count": 36,
   "metadata": {},
   "outputs": [],
   "source": [
    "# extract 'classification' from 'classification'\n",
    "def extract_classification(cl):\n",
    "    if 'classification:' in cl:    \n",
    "        return cl\n",
    "    else:\n",
    "        return 'unknown'\n",
    "df_admin.classification = df_admin.classification.apply(extract_classification)"
   ]
  },
  {
   "cell_type": "code",
   "execution_count": 37,
   "metadata": {},
   "outputs": [
    {
     "data": {
      "text/plain": [
       "array(['classification: Administration & Office SupportAdministration & Office SupportsubClassification: Office ManagementOffice Management',\n",
       "       'classification: Administration & Office SupportAdministration & Office SupportsubClassification: ReceptionistsReceptionists',\n",
       "       'classification: Administration & Office SupportAdministration & Office SupportsubClassification: OtherOther',\n",
       "       'classification: Administration & Office SupportAdministration & Office SupportsubClassification: Administrative AssistantsAdministrative Assistants',\n",
       "       'classification: Administration & Office SupportAdministration & Office SupportsubClassification: Client & Sales AdministrationClient & Sales Administration',\n",
       "       'classification: Administration & Office SupportAdministration & Office SupportsubClassification: Data Entry & Word ProcessingData Entry & Word Processing',\n",
       "       'unknown',\n",
       "       'classification: Administration & Office SupportAdministration & Office SupportsubClassification: PA, EA & SecretarialPA, EA & Secretarial',\n",
       "       'classification: Administration & Office SupportAdministration & Office SupportsubClassification: Contracts AdministrationContracts Administration',\n",
       "       'classification: Administration & Office SupportAdministration & Office SupportsubClassification: Records Management & Document ControlRecords Management & Document Control'],\n",
       "      dtype=object)"
      ]
     },
     "execution_count": 37,
     "metadata": {},
     "output_type": "execute_result"
    }
   ],
   "source": [
    "df_admin.classification.unique()"
   ]
  },
  {
   "cell_type": "code",
   "execution_count": 38,
   "metadata": {},
   "outputs": [],
   "source": [
    "df_admin.classification = df_admin.classification.str.replace('classification: ','')"
   ]
  },
  {
   "cell_type": "code",
   "execution_count": 39,
   "metadata": {},
   "outputs": [],
   "source": [
    "df_admin[['classification', 'subclassification']] = df_admin.classification.str.split('subClassification:', expand=True)"
   ]
  },
  {
   "cell_type": "code",
   "execution_count": 40,
   "metadata": {},
   "outputs": [
    {
     "data": {
      "text/plain": [
       "array(['Administration & Office SupportAdministration & Office Support',\n",
       "       'unknown'], dtype=object)"
      ]
     },
     "execution_count": 40,
     "metadata": {},
     "output_type": "execute_result"
    }
   ],
   "source": [
    "df_admin.classification.unique()"
   ]
  },
  {
   "cell_type": "code",
   "execution_count": 41,
   "metadata": {},
   "outputs": [
    {
     "data": {
      "text/plain": [
       "array([' Office ManagementOffice Management',\n",
       "       ' ReceptionistsReceptionists', ' OtherOther',\n",
       "       ' Administrative AssistantsAdministrative Assistants',\n",
       "       ' Client & Sales AdministrationClient & Sales Administration',\n",
       "       ' Data Entry & Word ProcessingData Entry & Word Processing', None,\n",
       "       ' PA, EA & SecretarialPA, EA & Secretarial',\n",
       "       ' Contracts AdministrationContracts Administration',\n",
       "       ' Records Management & Document ControlRecords Management & Document Control'],\n",
       "      dtype=object)"
      ]
     },
     "execution_count": 41,
     "metadata": {},
     "output_type": "execute_result"
    }
   ],
   "source": [
    "df_admin.subclassification.unique()"
   ]
  },
  {
   "cell_type": "code",
   "execution_count": 42,
   "metadata": {},
   "outputs": [],
   "source": [
    "df_admin.classification = df_admin.classification.astype(str)\n",
    "df_admin.classification = df_admin.classification.apply(deduplication_impr)"
   ]
  },
  {
   "cell_type": "code",
   "execution_count": 43,
   "metadata": {},
   "outputs": [
    {
     "data": {
      "text/plain": [
       "array(['Administration & Office Support', 'unknown'], dtype=object)"
      ]
     },
     "execution_count": 43,
     "metadata": {},
     "output_type": "execute_result"
    }
   ],
   "source": [
    "df_admin.classification.unique()"
   ]
  },
  {
   "cell_type": "code",
   "execution_count": 44,
   "metadata": {},
   "outputs": [],
   "source": [
    "df_admin.subclassification = df_admin.subclassification.astype(str)\n",
    "df_admin.subclassification = df_admin.subclassification.apply(deduplication_impr)"
   ]
  },
  {
   "cell_type": "code",
   "execution_count": 45,
   "metadata": {},
   "outputs": [
    {
     "data": {
      "text/plain": [
       "Administration & Office Support    2105\n",
       "unknown                             603\n",
       "Name: classification, dtype: int64"
      ]
     },
     "execution_count": 45,
     "metadata": {},
     "output_type": "execute_result"
    },
    {
     "data": {
      "text/plain": [
       "Administrative Assistants                715\n",
       "None                                     603\n",
       "PA, EA & Secretarial                     437\n",
       "Client & Sales Administration            336\n",
       "Receptionists                            196\n",
       "Other                                    116\n",
       "Office Management                        112\n",
       "Contracts Administration                  99\n",
       "Records Management & Document Control     81\n",
       "Data Entry & Word Processing              13\n",
       "Name: subclassification, dtype: int64"
      ]
     },
     "execution_count": 45,
     "metadata": {},
     "output_type": "execute_result"
    }
   ],
   "source": [
    "df_admin['classification'].value_counts()\n",
    "df_admin['subclassification'].value_counts()"
   ]
  },
  {
   "cell_type": "code",
   "execution_count": 46,
   "metadata": {},
   "outputs": [
    {
     "data": {
      "text/plain": [
       "0"
      ]
     },
     "execution_count": 46,
     "metadata": {},
     "output_type": "execute_result"
    }
   ],
   "source": [
    "df_admin.subclassification.isnull().sum()"
   ]
  },
  {
   "cell_type": "code",
   "execution_count": 47,
   "metadata": {},
   "outputs": [
    {
     "data": {
      "text/html": [
       "<div>\n",
       "<style scoped>\n",
       "    .dataframe tbody tr th:only-of-type {\n",
       "        vertical-align: middle;\n",
       "    }\n",
       "\n",
       "    .dataframe tbody tr th {\n",
       "        vertical-align: top;\n",
       "    }\n",
       "\n",
       "    .dataframe thead th {\n",
       "        text-align: right;\n",
       "    }\n",
       "</style>\n",
       "<table border=\"1\" class=\"dataframe\">\n",
       "  <thead>\n",
       "    <tr style=\"text-align: right;\">\n",
       "      <th></th>\n",
       "      <th>job_title</th>\n",
       "      <th>job_link</th>\n",
       "      <th>job_advertiser</th>\n",
       "      <th>location</th>\n",
       "      <th>released_time</th>\n",
       "      <th>classification</th>\n",
       "      <th>time</th>\n",
       "      <th>area</th>\n",
       "      <th>salary</th>\n",
       "      <th>subclassification</th>\n",
       "    </tr>\n",
       "  </thead>\n",
       "  <tbody>\n",
       "    <tr>\n",
       "      <td>0</td>\n",
       "      <td>Administrator</td>\n",
       "      <td>https://www.seek.co.nz/job/50582301?type=promo...</td>\n",
       "      <td>Private Advertiser</td>\n",
       "      <td>Bay of Plenty</td>\n",
       "      <td>Featured,at,Private Advertiser</td>\n",
       "      <td>Administration &amp; Office Support</td>\n",
       "      <td>0</td>\n",
       "      <td>Tauranga</td>\n",
       "      <td>unknown</td>\n",
       "      <td>Office Management</td>\n",
       "    </tr>\n",
       "    <tr>\n",
       "      <td>1</td>\n",
       "      <td>Receptionist</td>\n",
       "      <td>https://www.seek.co.nz/job/50620889?type=promo...</td>\n",
       "      <td>Avenues Orthodontics</td>\n",
       "      <td>Bay of Plenty</td>\n",
       "      <td>Featured,at</td>\n",
       "      <td>Administration &amp; Office Support</td>\n",
       "      <td>0</td>\n",
       "      <td>Tauranga</td>\n",
       "      <td>unknown</td>\n",
       "      <td>Receptionists</td>\n",
       "    </tr>\n",
       "    <tr>\n",
       "      <td>2</td>\n",
       "      <td>Prosecutions Support Officer</td>\n",
       "      <td>https://www.seek.co.nz/job/50622169?type=stand...</td>\n",
       "      <td>New Zealand Police</td>\n",
       "      <td>Auckland</td>\n",
       "      <td>4d ago,at</td>\n",
       "      <td>Administration &amp; Office Support</td>\n",
       "      <td>4</td>\n",
       "      <td>None</td>\n",
       "      <td>unknown</td>\n",
       "      <td>Other</td>\n",
       "    </tr>\n",
       "    <tr>\n",
       "      <td>3</td>\n",
       "      <td>Early Childhood Centre Administrator</td>\n",
       "      <td>https://www.seek.co.nz/job/50639620?type=stand...</td>\n",
       "      <td>Kew Pacific Island Early Learning Centre</td>\n",
       "      <td>Southland</td>\n",
       "      <td>1h ago,at</td>\n",
       "      <td>Administration &amp; Office Support</td>\n",
       "      <td>0</td>\n",
       "      <td>Invercargill</td>\n",
       "      <td>unknown</td>\n",
       "      <td>Administrative Assistants</td>\n",
       "    </tr>\n",
       "    <tr>\n",
       "      <td>4</td>\n",
       "      <td>Business Support Administrator</td>\n",
       "      <td>https://www.seek.co.nz/job/50622432?type=stand...</td>\n",
       "      <td>Private Advertiser</td>\n",
       "      <td>Canterbury</td>\n",
       "      <td>4d ago,at,Private Advertiser</td>\n",
       "      <td>Administration &amp; Office Support</td>\n",
       "      <td>4</td>\n",
       "      <td>Christchurch</td>\n",
       "      <td>unknown</td>\n",
       "      <td>Client &amp; Sales Administration</td>\n",
       "    </tr>\n",
       "  </tbody>\n",
       "</table>\n",
       "</div>"
      ],
      "text/plain": [
       "                              job_title  \\\n",
       "0                         Administrator   \n",
       "1                          Receptionist   \n",
       "2          Prosecutions Support Officer   \n",
       "3  Early Childhood Centre Administrator   \n",
       "4        Business Support Administrator   \n",
       "\n",
       "                                            job_link  \\\n",
       "0  https://www.seek.co.nz/job/50582301?type=promo...   \n",
       "1  https://www.seek.co.nz/job/50620889?type=promo...   \n",
       "2  https://www.seek.co.nz/job/50622169?type=stand...   \n",
       "3  https://www.seek.co.nz/job/50639620?type=stand...   \n",
       "4  https://www.seek.co.nz/job/50622432?type=stand...   \n",
       "\n",
       "                             job_advertiser       location  \\\n",
       "0                        Private Advertiser  Bay of Plenty   \n",
       "1                      Avenues Orthodontics  Bay of Plenty   \n",
       "2                        New Zealand Police       Auckland   \n",
       "3  Kew Pacific Island Early Learning Centre      Southland   \n",
       "4                        Private Advertiser     Canterbury   \n",
       "\n",
       "                    released_time                   classification  time  \\\n",
       "0  Featured,at,Private Advertiser  Administration & Office Support     0   \n",
       "1                     Featured,at  Administration & Office Support     0   \n",
       "2                       4d ago,at  Administration & Office Support     4   \n",
       "3                       1h ago,at  Administration & Office Support     0   \n",
       "4    4d ago,at,Private Advertiser  Administration & Office Support     4   \n",
       "\n",
       "           area   salary              subclassification  \n",
       "0      Tauranga  unknown              Office Management  \n",
       "1      Tauranga  unknown                  Receptionists  \n",
       "2          None  unknown                          Other  \n",
       "3  Invercargill  unknown      Administrative Assistants  \n",
       "4  Christchurch  unknown  Client & Sales Administration  "
      ]
     },
     "execution_count": 47,
     "metadata": {},
     "output_type": "execute_result"
    }
   ],
   "source": [
    "df_admin.head()"
   ]
  },
  {
   "cell_type": "markdown",
   "metadata": {},
   "source": [
    "## 'salary' "
   ]
  },
  {
   "cell_type": "code",
   "execution_count": 48,
   "metadata": {},
   "outputs": [
    {
     "data": {
      "text/plain": [
       "unknown                                            2105\n",
       "Competitive hourly rates $$                         280\n",
       "Attractive remuneration                              70\n",
       "Competitive hourly rate depending on experience      70\n",
       "Competitive hourly rate                              70\n",
       "                                                   ... \n",
       "$60K - $80K experience dependent                      1\n",
       "NZD75000 per annum                                    1\n",
       "NZD25 - NZD28 per hour                                1\n",
       "$50,000 - $64,999                                     1\n",
       "$50,000 per annum.                                    1\n",
       "Name: salary, Length: 85, dtype: int64"
      ]
     },
     "execution_count": 48,
     "metadata": {},
     "output_type": "execute_result"
    },
    {
     "data": {
      "text/plain": [
       "salary\n",
       "$18.50 - $23.50 per hour                             1\n",
       "$19 to $22 per hour                                  2\n",
       "$20 - $24.99 per hour                               12\n",
       "$20 - $24.99 per hour dependent on experience.       1\n",
       "$20 - $25 per hour                                   1\n",
       "                                                  ... \n",
       "Up to $27ph                                          1\n",
       "Up to $35 p.h. + 8% Holiday Pay                      1\n",
       "bonus plus medical insurance                         1\n",
       "incl Life & Health Insurance                         1\n",
       "unknown                                           2105\n",
       "Length: 85, dtype: int64"
      ]
     },
     "execution_count": 48,
     "metadata": {},
     "output_type": "execute_result"
    }
   ],
   "source": [
    "df_admin['salary'].value_counts()\n",
    "df_admin.groupby('salary').size()"
   ]
  },
  {
   "cell_type": "code",
   "execution_count": 49,
   "metadata": {},
   "outputs": [
    {
     "data": {
      "text/plain": [
       "array(['unknown', '$20 per hour', '$20 - $24.99 per hour',\n",
       "       '$19 to $22 per hour', '$40,000 - $49,999', '$25 per hour',\n",
       "       'Includes life and health insurance',\n",
       "       '$60 000 - $70 000 per annum', '$20.00 per hour',\n",
       "       '$55,000 - $69,999', '$20.00 per hour.', '$21 per hour',\n",
       "       '$55,000 - $64,999', '$50,000 - $55,000 plus benefits',\n",
       "       'incl Life & Health Insurance', '$45,000 - $49,999',\n",
       "       '$55,000 - $60,000 per annum pro rata', '$48,835 - $63,221',\n",
       "       '$20 - $29.99 per hour', '$24-$28', 'Up to $27ph',\n",
       "       '8% holiday pay', '$45,000 - $59,999', 'NZD25 - NZD28 per hour',\n",
       "       'Competitive Salary', '$22 per hour', 'NZD75000 per annum',\n",
       "       '$75k - $85k p.a.', '$24 - $25 + 8% holiday pay!',\n",
       "       '$50,000 per annum.', 'bonus plus medical insurance',\n",
       "       '$20 - $25 per hour', 'Good salary',\n",
       "       '$30 - $38 p.h. + 8% Holiday Pay', '$45-$55,000',\n",
       "       '$50,000 - $54,999', 'Up to $23 p.h. + + 8% Holiday Pay',\n",
       "       'Up to $22.00 p.h.',\n",
       "       'NZD69,726-94,127p.a.+Retirement contributions',\n",
       "       '$60k-$70k depending on experience!', '$22.00 - $23.00 phr',\n",
       "       '$27 - $33 p.h. + 8% holiday pay',\n",
       "       '$60K - $80K experience dependent',\n",
       "       '$60 - $65k + Career Progression to QS / leadership',\n",
       "       '$35 - $39.99 per hour',\n",
       "       '$20 - $24.99 per hour dependent on experience.',\n",
       "       'Up to $27 p.h. + 8% Holiday Pay', 'NZD19 - NZD23 per hour',\n",
       "       '$60,000 pa', '$21 - $25 p.h. + 8% Holiday Pay',\n",
       "       '$60,000 - $69,999', '$21-$23 per hour', '$50,000 - $59,999',\n",
       "       '$40 - $45 per hour', '$18.50 - $23.50 per hour', '$25.5',\n",
       "       'Up to $35 p.h. + 8% Holiday Pay',\n",
       "       '$21 - $22 p.h. + 8% Holiday Pay', 'NZD25 - NZD30 per hour',\n",
       "       '$25 - $29.99 per hour', 'Competitive', '$50,000 - $69,999',\n",
       "       'Attractive salary neg.', '$50,000 - $64,999',\n",
       "       '$20 - $40 per hour', '$48,000 - $55,000',\n",
       "       '$50k - $65k p.a. + plus kiwisaver', '$70-$80k+Super',\n",
       "       '$20 - $30 per hour', '$45,000 - $54,999',\n",
       "       'Competitive hourly rate, experience dependent',\n",
       "       '$55,000 - $65,000 depending on relevant experience',\n",
       "       'Competitive salary + phone + parking!', '$70-75k per annum',\n",
       "       'Competitive salary', '$45,000 - $55,000 depending on experience',\n",
       "       '$24 - $28 p.h.  + 8% Holiday Pay',\n",
       "       '$35 - $40 p.h. + + 8% Holiday Pay',\n",
       "       '+ Car park, close to public transport', 'Circa 50k',\n",
       "       'Send us your CV today!', 'Competitive hourly rates $$',\n",
       "       'Competitive hourly rate depending on experience',\n",
       "       'Attractive remuneration', 'Competitive hourly rate'], dtype=object)"
      ]
     },
     "execution_count": 49,
     "metadata": {},
     "output_type": "execute_result"
    }
   ],
   "source": [
    "df_admin['salary'].unique()"
   ]
  },
  {
   "cell_type": "code",
   "execution_count": 50,
   "metadata": {},
   "outputs": [
    {
     "data": {
      "text/plain": [
       "85"
      ]
     },
     "execution_count": 50,
     "metadata": {},
     "output_type": "execute_result"
    }
   ],
   "source": [
    "len(df_admin['salary'].unique())"
   ]
  },
  {
   "cell_type": "code",
   "execution_count": 51,
   "metadata": {},
   "outputs": [],
   "source": [
    "#convert 'salary'\n",
    "# 没有数字的，认为是unknown\n",
    "# 有数字的，提取数字并转为为以年为单位；划分为三档：Higher level, (75% quantile), average (50% quantile),lower_level (35% quantile)\n",
    "# 没有数字的，认为是unknown\n",
    "# unknown, 按high_level, average, lower_level比例随机分配： 20%，60%，20%，随机分配\n",
    "##有数字的数据，特征：大部分按区间划分，hour/year为单位；\n",
    "#1.没有区间的，认为上下限一致；\n",
    "#2.有“+”的简便起见本次不考虑；【可能考虑，super按照比例加，holiday的按照天数算】\n",
    "#3.以年薪计算,观察所见，时薪最高是45\n"
   ]
  },
  {
   "cell_type": "code",
   "execution_count": 52,
   "metadata": {},
   "outputs": [
    {
     "data": {
      "text/plain": [
       "'$30 - $38 p.h. + 8% Holiday Pay'"
      ]
     },
     "execution_count": 52,
     "metadata": {},
     "output_type": "execute_result"
    },
    {
     "data": {
      "text/plain": [
       "'Up to $27ph'"
      ]
     },
     "execution_count": 52,
     "metadata": {},
     "output_type": "execute_result"
    },
    {
     "data": {
      "text/plain": [
       "'$45,000 - $55,000 depending on experience'"
      ]
     },
     "execution_count": 52,
     "metadata": {},
     "output_type": "execute_result"
    },
    {
     "data": {
      "text/plain": [
       "'8% Holiday Pay'"
      ]
     },
     "execution_count": 52,
     "metadata": {},
     "output_type": "execute_result"
    }
   ],
   "source": [
    "# treat all rows without a number as 'unknown'\n",
    "def convert_nonN(x):\n",
    "    num = bool(re.search(r'\\d', x))\n",
    "    if num:\n",
    "        return x\n",
    "    else:\n",
    "        return None\n",
    "convert_nonN('$30 - $38 p.h. + 8% Holiday Pay')\n",
    "convert_nonN('Competitive hourly rates $$ ')\n",
    "convert_nonN('Up to $27ph')\n",
    "convert_nonN('$45,000 - $55,000 depending on experience')\n",
    "convert_nonN('8% Holiday Pay')"
   ]
  },
  {
   "cell_type": "code",
   "execution_count": 53,
   "metadata": {},
   "outputs": [],
   "source": [
    "df_admin.salary = df_admin.salary.apply(convert_nonN)"
   ]
  },
  {
   "cell_type": "code",
   "execution_count": 54,
   "metadata": {},
   "outputs": [
    {
     "data": {
      "text/plain": [
       "salary\n",
       "$18.50 - $23.50 per hour                           1\n",
       "$19 to $22 per hour                                2\n",
       "$20 - $24.99 per hour                             12\n",
       "$20 - $24.99 per hour dependent on experience.     1\n",
       "$20 - $25 per hour                                 1\n",
       "                                                  ..\n",
       "Up to $22.00 p.h.                                  1\n",
       "Up to $23 p.h. + + 8% Holiday Pay                  1\n",
       "Up to $27 p.h. + 8% Holiday Pay                    1\n",
       "Up to $27ph                                        1\n",
       "Up to $35 p.h. + 8% Holiday Pay                    1\n",
       "Length: 68, dtype: int64"
      ]
     },
     "execution_count": 54,
     "metadata": {},
     "output_type": "execute_result"
    },
    {
     "data": {
      "text/plain": [
       "array([None, '$20 per hour', '$20 - $24.99 per hour',\n",
       "       '$19 to $22 per hour', '$40,000 - $49,999', '$25 per hour',\n",
       "       '$60 000 - $70 000 per annum', '$20.00 per hour',\n",
       "       '$55,000 - $69,999', '$20.00 per hour.', '$21 per hour',\n",
       "       '$55,000 - $64,999', '$50,000 - $55,000 plus benefits',\n",
       "       '$45,000 - $49,999', '$55,000 - $60,000 per annum pro rata',\n",
       "       '$48,835 - $63,221', '$20 - $29.99 per hour', '$24-$28',\n",
       "       'Up to $27ph', '8% holiday pay', '$45,000 - $59,999',\n",
       "       'NZD25 - NZD28 per hour', '$22 per hour', 'NZD75000 per annum',\n",
       "       '$75k - $85k p.a.', '$24 - $25 + 8% holiday pay!',\n",
       "       '$50,000 per annum.', '$20 - $25 per hour',\n",
       "       '$30 - $38 p.h. + 8% Holiday Pay', '$45-$55,000',\n",
       "       '$50,000 - $54,999', 'Up to $23 p.h. + + 8% Holiday Pay',\n",
       "       'Up to $22.00 p.h.',\n",
       "       'NZD69,726-94,127p.a.+Retirement contributions',\n",
       "       '$60k-$70k depending on experience!', '$22.00 - $23.00 phr',\n",
       "       '$27 - $33 p.h. + 8% holiday pay',\n",
       "       '$60K - $80K experience dependent',\n",
       "       '$60 - $65k + Career Progression to QS / leadership',\n",
       "       '$35 - $39.99 per hour',\n",
       "       '$20 - $24.99 per hour dependent on experience.',\n",
       "       'Up to $27 p.h. + 8% Holiday Pay', 'NZD19 - NZD23 per hour',\n",
       "       '$60,000 pa', '$21 - $25 p.h. + 8% Holiday Pay',\n",
       "       '$60,000 - $69,999', '$21-$23 per hour', '$50,000 - $59,999',\n",
       "       '$40 - $45 per hour', '$18.50 - $23.50 per hour', '$25.5',\n",
       "       'Up to $35 p.h. + 8% Holiday Pay',\n",
       "       '$21 - $22 p.h. + 8% Holiday Pay', 'NZD25 - NZD30 per hour',\n",
       "       '$25 - $29.99 per hour', '$50,000 - $69,999', '$50,000 - $64,999',\n",
       "       '$20 - $40 per hour', '$48,000 - $55,000',\n",
       "       '$50k - $65k p.a. + plus kiwisaver', '$70-$80k+Super',\n",
       "       '$20 - $30 per hour', '$45,000 - $54,999',\n",
       "       '$55,000 - $65,000 depending on relevant experience',\n",
       "       '$70-75k per annum', '$45,000 - $55,000 depending on experience',\n",
       "       '$24 - $28 p.h.  + 8% Holiday Pay',\n",
       "       '$35 - $40 p.h. + + 8% Holiday Pay', 'Circa 50k'], dtype=object)"
      ]
     },
     "execution_count": 54,
     "metadata": {},
     "output_type": "execute_result"
    },
    {
     "data": {
      "text/plain": [
       "69"
      ]
     },
     "execution_count": 54,
     "metadata": {},
     "output_type": "execute_result"
    }
   ],
   "source": [
    "df_admin.groupby('salary').size()\n",
    "df_admin['salary'].unique()\n",
    "len(df_admin['salary'].unique())"
   ]
  },
  {
   "cell_type": "code",
   "execution_count": 55,
   "metadata": {},
   "outputs": [],
   "source": [
    "df_admin.salary = df_admin.salary.str.replace(',','')"
   ]
  },
  {
   "cell_type": "code",
   "execution_count": 56,
   "metadata": {},
   "outputs": [],
   "source": [
    "df_admin.salary = df_admin.salary.str.replace('to','-',regex=True)"
   ]
  },
  {
   "cell_type": "code",
   "execution_count": 57,
   "metadata": {},
   "outputs": [],
   "source": [
    "#数字中间有空格的情况\n",
    "df_admin.salary = df_admin.salary.str.replace(r'(\\d+)\\s(\\d+)', r'\\1\\2', regex=True)\n",
    "#另一个思路，先把上下限split出来"
   ]
  },
  {
   "cell_type": "code",
   "execution_count": 58,
   "metadata": {},
   "outputs": [
    {
     "data": {
      "text/plain": [
       "array([None, '$20 per hour', '$20 - $24.99 per hour',\n",
       "       '$19 - $22 per hour', '$40000 - $49999', '$25 per hour',\n",
       "       '$60000 - $70000 per annum', '$20.00 per hour', '$55000 - $69999',\n",
       "       '$20.00 per hour.', '$21 per hour', '$55000 - $64999',\n",
       "       '$50000 - $55000 plus benefits', '$45000 - $49999',\n",
       "       '$55000 - $60000 per annum pro rata', '$48835 - $63221',\n",
       "       '$20 - $29.99 per hour', '$24-$28', 'Up - $27ph', '8% holiday pay',\n",
       "       '$45000 - $59999', 'NZD25 - NZD28 per hour', '$22 per hour',\n",
       "       'NZD75000 per annum', '$75k - $85k p.a.',\n",
       "       '$24 - $25 + 8% holiday pay!', '$50000 per annum.',\n",
       "       '$20 - $25 per hour', '$30 - $38 p.h. + 8% Holiday Pay',\n",
       "       '$45-$55000', '$50000 - $54999',\n",
       "       'Up - $23 p.h. + + 8% Holiday Pay', 'Up - $22.00 p.h.',\n",
       "       'NZD69726-94127p.a.+Retirement contributions',\n",
       "       '$60k-$70k depending on experience!', '$22.00 - $23.00 phr',\n",
       "       '$27 - $33 p.h. + 8% holiday pay',\n",
       "       '$60K - $80K experience dependent',\n",
       "       '$60 - $65k + Career Progression - QS / leadership',\n",
       "       '$35 - $39.99 per hour',\n",
       "       '$20 - $24.99 per hour dependent on experience.',\n",
       "       'Up - $27 p.h. + 8% Holiday Pay', 'NZD19 - NZD23 per hour',\n",
       "       '$60000 pa', '$21 - $25 p.h. + 8% Holiday Pay', '$60000 - $69999',\n",
       "       '$21-$23 per hour', '$50000 - $59999', '$40 - $45 per hour',\n",
       "       '$18.50 - $23.50 per hour', '$25.5',\n",
       "       'Up - $35 p.h. + 8% Holiday Pay',\n",
       "       '$21 - $22 p.h. + 8% Holiday Pay', 'NZD25 - NZD30 per hour',\n",
       "       '$25 - $29.99 per hour', '$50000 - $69999', '$50000 - $64999',\n",
       "       '$20 - $40 per hour', '$48000 - $55000',\n",
       "       '$50k - $65k p.a. + plus kiwisaver', '$70-$80k+Super',\n",
       "       '$20 - $30 per hour', '$45000 - $54999',\n",
       "       '$55000 - $65000 depending on relevant experience',\n",
       "       '$70-75k per annum', '$45000 - $55000 depending on experience',\n",
       "       '$24 - $28 p.h.  + 8% Holiday Pay',\n",
       "       '$35 - $40 p.h. + + 8% Holiday Pay', 'Circa 50k'], dtype=object)"
      ]
     },
     "execution_count": 58,
     "metadata": {},
     "output_type": "execute_result"
    },
    {
     "data": {
      "text/plain": [
       "69"
      ]
     },
     "execution_count": 58,
     "metadata": {},
     "output_type": "execute_result"
    }
   ],
   "source": [
    "df_admin['salary'].unique()\n",
    "len(df_admin['salary'].unique())"
   ]
  },
  {
   "cell_type": "code",
   "execution_count": 59,
   "metadata": {},
   "outputs": [],
   "source": [
    "df_admin[['min_salary', 'max_salary'] ] = df_admin.salary.str.split('-', n=1, expand=True)"
   ]
  },
  {
   "cell_type": "code",
   "execution_count": 60,
   "metadata": {
    "scrolled": true
   },
   "outputs": [
    {
     "data": {
      "text/plain": [
       "array([None, '$20 per hour', '$20 ', '$19 ', '$40000 ', '$25 per hour',\n",
       "       '$60000 ', '$20.00 per hour', '$55000 ', '$20.00 per hour.',\n",
       "       '$21 per hour', '$50000 ', '$45000 ', '$48835 ', '$24', 'Up ',\n",
       "       '8% holiday pay', 'NZD25 ', '$22 per hour', 'NZD75000 per annum',\n",
       "       '$75k ', '$24 ', '$50000 per annum.', '$30 ', '$45', 'NZD69726',\n",
       "       '$60k', '$22.00 ', '$27 ', '$60K ', '$60 ', '$35 ', 'NZD19 ',\n",
       "       '$60000 pa', '$21 ', '$21', '$40 ', '$18.50 ', '$25.5', '$25 ',\n",
       "       '$48000 ', '$50k ', '$70', 'Circa 50k'], dtype=object)"
      ]
     },
     "execution_count": 60,
     "metadata": {},
     "output_type": "execute_result"
    },
    {
     "data": {
      "text/plain": [
       "44"
      ]
     },
     "execution_count": 60,
     "metadata": {},
     "output_type": "execute_result"
    },
    {
     "data": {
      "text/plain": [
       "array([None, ' $24.99 per hour', ' $22 per hour', ' $49999',\n",
       "       ' $70000 per annum', ' $69999', ' $64999', ' $55000 plus benefits',\n",
       "       ' $60000 per annum pro rata', ' $63221', ' $29.99 per hour', '$28',\n",
       "       ' $27ph', ' $59999', ' NZD28 per hour', ' $85k p.a.',\n",
       "       ' $25 + 8% holiday pay!', ' $25 per hour',\n",
       "       ' $38 p.h. + 8% Holiday Pay', '$55000', ' $54999',\n",
       "       ' $23 p.h. + + 8% Holiday Pay', ' $22.00 p.h.',\n",
       "       '94127p.a.+Retirement contributions',\n",
       "       '$70k depending on experience!', ' $23.00 phr',\n",
       "       ' $33 p.h. + 8% holiday pay', ' $80K experience dependent',\n",
       "       ' $65k + Career Progression - QS / leadership', ' $39.99 per hour',\n",
       "       ' $24.99 per hour dependent on experience.',\n",
       "       ' $27 p.h. + 8% Holiday Pay', ' NZD23 per hour',\n",
       "       ' $25 p.h. + 8% Holiday Pay', '$23 per hour', ' $45 per hour',\n",
       "       ' $23.50 per hour', ' $35 p.h. + 8% Holiday Pay',\n",
       "       ' $22 p.h. + 8% Holiday Pay', ' NZD30 per hour', ' $40 per hour',\n",
       "       ' $55000', ' $65k p.a. + plus kiwisaver', '$80k+Super',\n",
       "       ' $30 per hour', ' $65000 depending on relevant experience',\n",
       "       '75k per annum', ' $55000 depending on experience',\n",
       "       ' $28 p.h.  + 8% Holiday Pay', ' $40 p.h. + + 8% Holiday Pay'],\n",
       "      dtype=object)"
      ]
     },
     "execution_count": 60,
     "metadata": {},
     "output_type": "execute_result"
    },
    {
     "data": {
      "text/plain": [
       "50"
      ]
     },
     "execution_count": 60,
     "metadata": {},
     "output_type": "execute_result"
    }
   ],
   "source": [
    "df_admin['min_salary'].unique()\n",
    "len(df_admin['min_salary'].unique())\n",
    "df_admin['max_salary'].unique()\n",
    "len(df_admin['max_salary'].unique())"
   ]
  },
  {
   "cell_type": "markdown",
   "metadata": {},
   "source": [
    "### min_salary\n"
   ]
  },
  {
   "cell_type": "code",
   "execution_count": 61,
   "metadata": {},
   "outputs": [],
   "source": [
    "#df_admin['min_salary'] = df_admin['min_salary'].str.replace(r'k', r'000',case=False)\n",
    "df_admin.min_salary = df_admin.min_salary.str.replace(r'(\\d+)k', r'\\1000',case=False,regex=True)"
   ]
  },
  {
   "cell_type": "code",
   "execution_count": 62,
   "metadata": {},
   "outputs": [
    {
     "data": {
      "text/plain": [
       "array([None, '$20 per hour', '$20 ', '$19 ', '$40000 ', '$25 per hour',\n",
       "       '$60000 ', '$20.00 per hour', '$55000 ', '$20.00 per hour.',\n",
       "       '$21 per hour', '$50000 ', '$45000 ', '$48835 ', '$24', 'Up ',\n",
       "       '8% holiday pay', 'NZD25 ', '$22 per hour', 'NZD75000 per annum',\n",
       "       '$@0 ', '$24 ', '$50000 per annum.', '$30 ', '$45', 'NZD69726',\n",
       "       '$@0', '$22.00 ', '$27 ', '$60 ', '$35 ', 'NZD19 ', '$60000 pa',\n",
       "       '$21 ', '$21', '$40 ', '$18.50 ', '$25.5', '$25 ', '$48000 ',\n",
       "       '$70', 'Circa @0'], dtype=object)"
      ]
     },
     "execution_count": 62,
     "metadata": {},
     "output_type": "execute_result"
    },
    {
     "data": {
      "text/plain": [
       "42"
      ]
     },
     "execution_count": 62,
     "metadata": {},
     "output_type": "execute_result"
    }
   ],
   "source": [
    "df_admin['min_salary'].unique()\n",
    "len(df_admin['min_salary'].unique())\n",
    "#有个问题：'$60''$70'这个其实是‘70k',在split的时候忽略了'k'\n",
    "#解决：直接替换；或者转化统一单位时处理（这里适用因为按小时计算的最大45）"
   ]
  },
  {
   "cell_type": "code",
   "execution_count": 63,
   "metadata": {},
   "outputs": [],
   "source": [
    "#df_admin.min_salary = df_admin.min_salary.str.replace('70','70000')\n",
    "#df_admin[df_admin.min_salary.str.contains (r'\\$70')]"
   ]
  },
  {
   "cell_type": "code",
   "execution_count": 64,
   "metadata": {},
   "outputs": [],
   "source": [
    "#r\"\\d+\\.?\\d*\"\n",
    "#去掉数字中间的space\n",
    "# df_admin.min_salary = df_admin.min_salary.str.replace(r'(\\d+)\\s(\\d+)', r'\\1\\2', regex=True)\n",
    "# df_admin.min_salary.unique()\n",
    "# len(df_admin['min_salary'].unique())"
   ]
  },
  {
   "cell_type": "code",
   "execution_count": 65,
   "metadata": {},
   "outputs": [
    {
     "data": {
      "text/plain": [
       "'20'"
      ]
     },
     "execution_count": 65,
     "metadata": {},
     "output_type": "execute_result"
    },
    {
     "data": {
      "text/plain": [
       "'18.50'"
      ]
     },
     "execution_count": 65,
     "metadata": {},
     "output_type": "execute_result"
    },
    {
     "data": {
      "text/plain": [
       "'50000'"
      ]
     },
     "execution_count": 65,
     "metadata": {},
     "output_type": "execute_result"
    },
    {
     "data": {
      "text/plain": [
       "'19'"
      ]
     },
     "execution_count": 65,
     "metadata": {},
     "output_type": "execute_result"
    },
    {
     "data": {
      "text/plain": [
       "'50000'"
      ]
     },
     "execution_count": 65,
     "metadata": {},
     "output_type": "execute_result"
    },
    {
     "data": {
      "text/plain": [
       "'60'"
      ]
     },
     "execution_count": 65,
     "metadata": {},
     "output_type": "execute_result"
    },
    {
     "data": {
      "text/plain": [
       "'unknown'"
      ]
     },
     "execution_count": 65,
     "metadata": {},
     "output_type": "execute_result"
    },
    {
     "data": {
      "text/plain": [
       "'unknown'"
      ]
     },
     "execution_count": 65,
     "metadata": {},
     "output_type": "execute_result"
    },
    {
     "data": {
      "text/plain": [
       "'23'"
      ]
     },
     "execution_count": 65,
     "metadata": {},
     "output_type": "execute_result"
    }
   ],
   "source": [
    "def extract_num(x):\n",
    "    #问题： .\\d+\\.?\\d*. 不对？？？\n",
    "    #[^0-9]*(\\d+\\.*\\d*)[^0-9]*'\n",
    "#     if re.match(r'.\\d+\\.?\\d*.',x):\n",
    "#         return re.match(r'.(\\d+\\.?\\d*.)',x).group(1)\n",
    "#     else:\n",
    "#         return 'unknown'\n",
    "    if re.match(r'[^0-9]*(\\d+\\.*\\d*)[^0-9]*',x):\n",
    "        return re.match(r'[^0-9]*(\\d+\\.*\\d*)[^0-9]*',x).group(1)\n",
    "    else:\n",
    "        return 'unknown'\n",
    "extract_num('$20 per hour')\n",
    "extract_num('$18.50')\n",
    "extract_num('Circa 50000')\n",
    "extract_num('NZD19')\n",
    "extract_num('$50000 per annum.')\n",
    "extract_num('$60 ')\n",
    "extract_num('Up ')\n",
    "extract_num('unknown')\n",
    "extract_num('Up - $23 p.h. + + 8% Holiday Pay')"
   ]
  },
  {
   "cell_type": "code",
   "execution_count": 66,
   "metadata": {},
   "outputs": [],
   "source": [
    "df_admin.min_salary = df_admin.min_salary.astype(str)\n",
    "df_admin.min_salary = df_admin.min_salary.apply(extract_num)"
   ]
  },
  {
   "cell_type": "code",
   "execution_count": 67,
   "metadata": {},
   "outputs": [
    {
     "data": {
      "text/plain": [
       "array(['unknown', '20', '19', '40000', '25', '60000', '20.00', '55000',\n",
       "       '21', '50000', '45000', '48835', '24', '8', '22', '75000', '0',\n",
       "       '30', '45', '69726', '22.00', '27', '60', '35', '40', '18.50',\n",
       "       '25.5', '48000', '70'], dtype=object)"
      ]
     },
     "execution_count": 67,
     "metadata": {},
     "output_type": "execute_result"
    },
    {
     "data": {
      "text/plain": [
       "29"
      ]
     },
     "execution_count": 67,
     "metadata": {},
     "output_type": "execute_result"
    }
   ],
   "source": [
    "df_admin.min_salary.unique()\n",
    "len(df_admin['min_salary'].unique())"
   ]
  },
  {
   "cell_type": "code",
   "execution_count": 68,
   "metadata": {},
   "outputs": [
    {
     "data": {
      "text/plain": [
       "'unknown'"
      ]
     },
     "execution_count": 68,
     "metadata": {},
     "output_type": "execute_result"
    },
    {
     "data": {
      "text/plain": [
       "50000.0"
      ]
     },
     "execution_count": 68,
     "metadata": {},
     "output_type": "execute_result"
    },
    {
     "data": {
      "text/plain": [
       "60000.0"
      ]
     },
     "execution_count": 68,
     "metadata": {},
     "output_type": "execute_result"
    },
    {
     "data": {
      "text/plain": [
       "70000.0"
      ]
     },
     "execution_count": 68,
     "metadata": {},
     "output_type": "execute_result"
    },
    {
     "data": {
      "text/plain": [
       "'unknown'"
      ]
     },
     "execution_count": 68,
     "metadata": {},
     "output_type": "execute_result"
    },
    {
     "data": {
      "text/plain": [
       "83200.0"
      ]
     },
     "execution_count": 68,
     "metadata": {},
     "output_type": "execute_result"
    }
   ],
   "source": [
    "def convert_annual(x):\n",
    "    if x == 'unknown':\n",
    "        return 'unknown'\n",
    "    else:\n",
    "        x = float(x)\n",
    "        if x <= 8:                 \n",
    "            return 'unknown'\n",
    "        elif 8 < x < 50:           #hourly\n",
    "            return x * 8 * 260      #working 8 hours a day, and 260 days a year\n",
    "        elif x == 60 or x == 70:    # $60''$70'这个其实是‘k',在split的时候忽略了元数据中上下限没统一单位的情况\n",
    "            return x * 1000\n",
    "        else:\n",
    "            return x\n",
    "convert_annual('unknown')\n",
    "convert_annual('50000')\n",
    "convert_annual('60')\n",
    "convert_annual('70')\n",
    "convert_annual('8')\n",
    "convert_annual('40')"
   ]
  },
  {
   "cell_type": "code",
   "execution_count": 69,
   "metadata": {},
   "outputs": [],
   "source": [
    "df_admin.min_salary = df_admin.min_salary.apply(convert_annual)"
   ]
  },
  {
   "cell_type": "code",
   "execution_count": 70,
   "metadata": {},
   "outputs": [
    {
     "data": {
      "text/plain": [
       "array(['unknown', 41600.0, 39520.0, 40000.0, 52000.0, 60000.0, 55000.0,\n",
       "       43680.0, 50000.0, 45000.0, 48835.0, 49920.0, 45760.0, 75000.0,\n",
       "       62400.0, 93600.0, 69726.0, 56160.0, 72800.0, 83200.0, 38480.0,\n",
       "       53040.0, 48000.0, 70000.0], dtype=object)"
      ]
     },
     "execution_count": 70,
     "metadata": {},
     "output_type": "execute_result"
    },
    {
     "data": {
      "text/plain": [
       "24"
      ]
     },
     "execution_count": 70,
     "metadata": {},
     "output_type": "execute_result"
    },
    {
     "data": {
      "text/plain": [
       "min_salary\n",
       "38480.0       1\n",
       "39520.0       3\n",
       "40000.0       5\n",
       "41600.0      22\n",
       "43680.0       4\n",
       "45000.0       5\n",
       "45760.0       2\n",
       "48000.0       1\n",
       "48835.0       1\n",
       "49920.0       4\n",
       "50000.0       8\n",
       "52000.0       5\n",
       "53040.0       1\n",
       "55000.0       7\n",
       "56160.0       1\n",
       "60000.0       4\n",
       "62400.0       1\n",
       "69726.0       1\n",
       "70000.0       2\n",
       "72800.0       3\n",
       "75000.0       1\n",
       "83200.0       1\n",
       "93600.0       1\n",
       "unknown    2624\n",
       "dtype: int64"
      ]
     },
     "execution_count": 70,
     "metadata": {},
     "output_type": "execute_result"
    }
   ],
   "source": [
    "df_admin['min_salary'].unique()\n",
    "len(df_admin['min_salary'].unique())\n",
    "df_admin.groupby('min_salary').size()"
   ]
  },
  {
   "cell_type": "markdown",
   "metadata": {},
   "source": [
    "## max_salary"
   ]
  },
  {
   "cell_type": "code",
   "execution_count": 71,
   "metadata": {},
   "outputs": [
    {
     "data": {
      "text/plain": [
       "array([None, ' $24.99 per hour', ' $22 per hour', ' $49999',\n",
       "       ' $70000 per annum', ' $69999', ' $64999', ' $55000 plus benefits',\n",
       "       ' $60000 per annum pro rata', ' $63221', ' $29.99 per hour', '$28',\n",
       "       ' $27ph', ' $59999', ' NZD28 per hour', ' $85k p.a.',\n",
       "       ' $25 + 8% holiday pay!', ' $25 per hour',\n",
       "       ' $38 p.h. + 8% Holiday Pay', '$55000', ' $54999',\n",
       "       ' $23 p.h. + + 8% Holiday Pay', ' $22.00 p.h.',\n",
       "       '94127p.a.+Retirement contributions',\n",
       "       '$70k depending on experience!', ' $23.00 phr',\n",
       "       ' $33 p.h. + 8% holiday pay', ' $80K experience dependent',\n",
       "       ' $65k + Career Progression - QS / leadership', ' $39.99 per hour',\n",
       "       ' $24.99 per hour dependent on experience.',\n",
       "       ' $27 p.h. + 8% Holiday Pay', ' NZD23 per hour',\n",
       "       ' $25 p.h. + 8% Holiday Pay', '$23 per hour', ' $45 per hour',\n",
       "       ' $23.50 per hour', ' $35 p.h. + 8% Holiday Pay',\n",
       "       ' $22 p.h. + 8% Holiday Pay', ' NZD30 per hour', ' $40 per hour',\n",
       "       ' $55000', ' $65k p.a. + plus kiwisaver', '$80k+Super',\n",
       "       ' $30 per hour', ' $65000 depending on relevant experience',\n",
       "       '75k per annum', ' $55000 depending on experience',\n",
       "       ' $28 p.h.  + 8% Holiday Pay', ' $40 p.h. + + 8% Holiday Pay'],\n",
       "      dtype=object)"
      ]
     },
     "execution_count": 71,
     "metadata": {},
     "output_type": "execute_result"
    },
    {
     "data": {
      "text/plain": [
       "50"
      ]
     },
     "execution_count": 71,
     "metadata": {},
     "output_type": "execute_result"
    }
   ],
   "source": [
    "df_admin['max_salary'].unique()\n",
    "len(df_admin['max_salary'].unique())"
   ]
  },
  {
   "cell_type": "code",
   "execution_count": 72,
   "metadata": {},
   "outputs": [],
   "source": [
    "df_admin.max_salary = df_admin.max_salary.str.replace('k', '000',case=False)"
   ]
  },
  {
   "cell_type": "code",
   "execution_count": 73,
   "metadata": {},
   "outputs": [
    {
     "data": {
      "text/plain": [
       "array([None, ' $24.99 per hour', ' $22 per hour', ' $49999',\n",
       "       ' $70000 per annum', ' $69999', ' $64999', ' $55000 plus benefits',\n",
       "       ' $60000 per annum pro rata', ' $63221', ' $29.99 per hour', '$28',\n",
       "       ' $27ph', ' $59999', ' NZD28 per hour', ' $85000 p.a.',\n",
       "       ' $25 + 8% holiday pay!', ' $25 per hour',\n",
       "       ' $38 p.h. + 8% Holiday Pay', '$55000', ' $54999',\n",
       "       ' $23 p.h. + + 8% Holiday Pay', ' $22.00 p.h.',\n",
       "       '94127p.a.+Retirement contributions',\n",
       "       '$70000 depending on experience!', ' $23.00 phr',\n",
       "       ' $33 p.h. + 8% holiday pay', ' $80000 experience dependent',\n",
       "       ' $65000 + Career Progression - QS / leadership',\n",
       "       ' $39.99 per hour', ' $24.99 per hour dependent on experience.',\n",
       "       ' $27 p.h. + 8% Holiday Pay', ' NZD23 per hour',\n",
       "       ' $25 p.h. + 8% Holiday Pay', '$23 per hour', ' $45 per hour',\n",
       "       ' $23.50 per hour', ' $35 p.h. + 8% Holiday Pay',\n",
       "       ' $22 p.h. + 8% Holiday Pay', ' NZD30 per hour', ' $40 per hour',\n",
       "       ' $55000', ' $65000 p.a. + plus 000iwisaver', '$80000+Super',\n",
       "       ' $30 per hour', ' $65000 depending on relevant experience',\n",
       "       '75000 per annum', ' $55000 depending on experience',\n",
       "       ' $28 p.h.  + 8% Holiday Pay', ' $40 p.h. + + 8% Holiday Pay'],\n",
       "      dtype=object)"
      ]
     },
     "execution_count": 73,
     "metadata": {},
     "output_type": "execute_result"
    },
    {
     "data": {
      "text/plain": [
       "50"
      ]
     },
     "execution_count": 73,
     "metadata": {},
     "output_type": "execute_result"
    }
   ],
   "source": [
    "df_admin['max_salary'].unique()\n",
    "len(df_admin['max_salary'].unique())"
   ]
  },
  {
   "cell_type": "code",
   "execution_count": 74,
   "metadata": {},
   "outputs": [
    {
     "data": {
      "text/plain": [
       "'75000'"
      ]
     },
     "execution_count": 74,
     "metadata": {},
     "output_type": "execute_result"
    },
    {
     "data": {
      "text/plain": [
       "'28'"
      ]
     },
     "execution_count": 74,
     "metadata": {},
     "output_type": "execute_result"
    },
    {
     "data": {
      "text/plain": [
       "'40'"
      ]
     },
     "execution_count": 74,
     "metadata": {},
     "output_type": "execute_result"
    },
    {
     "data": {
      "text/plain": [
       "'94127'"
      ]
     },
     "execution_count": 74,
     "metadata": {},
     "output_type": "execute_result"
    },
    {
     "data": {
      "text/plain": [
       "'23.00'"
      ]
     },
     "execution_count": 74,
     "metadata": {},
     "output_type": "execute_result"
    }
   ],
   "source": [
    "extract_num('75000 per annum')\n",
    "extract_num( '$28 p.h.  + 8% Holiday Pay')\n",
    "extract_num(' $40 p.h. + + 8% Holiday Pay')\n",
    "extract_num('94127p.a.+Retirement contributions')\n",
    "extract_num(' $23.00 phr')"
   ]
  },
  {
   "cell_type": "code",
   "execution_count": 75,
   "metadata": {},
   "outputs": [],
   "source": [
    "df_admin.max_salary = df_admin.max_salary.astype(str)\n",
    "df_admin.max_salary = df_admin.max_salary.apply(extract_num)"
   ]
  },
  {
   "cell_type": "code",
   "execution_count": 76,
   "metadata": {},
   "outputs": [
    {
     "data": {
      "text/plain": [
       "array(['unknown', '24.99', '22', '49999', '70000', '69999', '64999',\n",
       "       '55000', '60000', '63221', '29.99', '28', '27', '59999', '85000',\n",
       "       '25', '38', '54999', '23', '22.00', '94127', '23.00', '33',\n",
       "       '80000', '65000', '39.99', '45', '23.50', '35', '30', '40',\n",
       "       '75000'], dtype=object)"
      ]
     },
     "execution_count": 76,
     "metadata": {},
     "output_type": "execute_result"
    },
    {
     "data": {
      "text/plain": [
       "32"
      ]
     },
     "execution_count": 76,
     "metadata": {},
     "output_type": "execute_result"
    }
   ],
   "source": [
    "df_admin['max_salary'].unique()\n",
    "len(df_admin['max_salary'].unique())"
   ]
  },
  {
   "cell_type": "code",
   "execution_count": 77,
   "metadata": {},
   "outputs": [],
   "source": [
    "df_admin.max_salary = df_admin.max_salary.apply(convert_annual)"
   ]
  },
  {
   "cell_type": "code",
   "execution_count": 78,
   "metadata": {},
   "outputs": [
    {
     "data": {
      "text/plain": [
       "array(['unknown', 51979.2, 45760.0, 49999.0, 70000.0, 69999.0, 64999.0,\n",
       "       55000.0, 60000.0, 63221.0, 62379.2, 58240.0, 56160.0, 59999.0,\n",
       "       85000.0, 52000.0, 79040.0, 54999.0, 47840.0, 94127.0, 68640.0,\n",
       "       80000.0, 65000.0, 83179.2, 93600.0, 48880.0, 72800.0, 62400.0,\n",
       "       83200.0, 75000.0], dtype=object)"
      ]
     },
     "execution_count": 78,
     "metadata": {},
     "output_type": "execute_result"
    },
    {
     "data": {
      "text/plain": [
       "30"
      ]
     },
     "execution_count": 78,
     "metadata": {},
     "output_type": "execute_result"
    }
   ],
   "source": [
    "df_admin['max_salary'].unique()\n",
    "len(df_admin['max_salary'].unique())"
   ]
  },
  {
   "cell_type": "markdown",
   "metadata": {},
   "source": [
    "### min/max salary unknown"
   ]
  },
  {
   "cell_type": "code",
   "execution_count": 79,
   "metadata": {
    "scrolled": true
   },
   "outputs": [
    {
     "data": {
      "text/html": [
       "<div>\n",
       "<style scoped>\n",
       "    .dataframe tbody tr th:only-of-type {\n",
       "        vertical-align: middle;\n",
       "    }\n",
       "\n",
       "    .dataframe tbody tr th {\n",
       "        vertical-align: top;\n",
       "    }\n",
       "\n",
       "    .dataframe thead th {\n",
       "        text-align: right;\n",
       "    }\n",
       "</style>\n",
       "<table border=\"1\" class=\"dataframe\">\n",
       "  <thead>\n",
       "    <tr style=\"text-align: right;\">\n",
       "      <th></th>\n",
       "      <th>min_salary</th>\n",
       "      <th>max_salary</th>\n",
       "    </tr>\n",
       "  </thead>\n",
       "  <tbody>\n",
       "    <tr>\n",
       "      <td>156</td>\n",
       "      <td>unknown</td>\n",
       "      <td>56160</td>\n",
       "    </tr>\n",
       "    <tr>\n",
       "      <td>306</td>\n",
       "      <td>unknown</td>\n",
       "      <td>85000</td>\n",
       "    </tr>\n",
       "    <tr>\n",
       "      <td>403</td>\n",
       "      <td>unknown</td>\n",
       "      <td>47840</td>\n",
       "    </tr>\n",
       "    <tr>\n",
       "      <td>405</td>\n",
       "      <td>unknown</td>\n",
       "      <td>45760</td>\n",
       "    </tr>\n",
       "    <tr>\n",
       "      <td>442</td>\n",
       "      <td>unknown</td>\n",
       "      <td>70000</td>\n",
       "    </tr>\n",
       "    <tr>\n",
       "      <td>459</td>\n",
       "      <td>unknown</td>\n",
       "      <td>80000</td>\n",
       "    </tr>\n",
       "    <tr>\n",
       "      <td>503</td>\n",
       "      <td>unknown</td>\n",
       "      <td>56160</td>\n",
       "    </tr>\n",
       "    <tr>\n",
       "      <td>578</td>\n",
       "      <td>unknown</td>\n",
       "      <td>72800</td>\n",
       "    </tr>\n",
       "    <tr>\n",
       "      <td>644</td>\n",
       "      <td>unknown</td>\n",
       "      <td>65000</td>\n",
       "    </tr>\n",
       "  </tbody>\n",
       "</table>\n",
       "</div>"
      ],
      "text/plain": [
       "    min_salary max_salary\n",
       "156    unknown      56160\n",
       "306    unknown      85000\n",
       "403    unknown      47840\n",
       "405    unknown      45760\n",
       "442    unknown      70000\n",
       "459    unknown      80000\n",
       "503    unknown      56160\n",
       "578    unknown      72800\n",
       "644    unknown      65000"
      ]
     },
     "execution_count": 79,
     "metadata": {},
     "output_type": "execute_result"
    }
   ],
   "source": [
    "df_admin[['min_salary', 'max_salary']][(df_admin['min_salary'] == 'unknown') & (df_admin['max_salary'] != 'unknown')]"
   ]
  },
  {
   "cell_type": "code",
   "execution_count": null,
   "metadata": {},
   "outputs": [],
   "source": [
    "#df_admin.min_salary[(df_admin['min_salary'] == 'unknown') & (df_admin['max_salary'] != 'unknown')] = df_admin.max_salary"
   ]
  },
  {
   "cell_type": "code",
   "execution_count": null,
   "metadata": {},
   "outputs": [],
   "source": [
    "#df_admin.iloc[156]['min_salary']"
   ]
  },
  {
   "cell_type": "code",
   "execution_count": null,
   "metadata": {},
   "outputs": [],
   "source": [
    "#df_admin[['min_salary', 'max_salary']][(df_admin['max_salary'] == 'unknown') & (df_admin['min_salary'] != 'unknown')]"
   ]
  },
  {
   "cell_type": "code",
   "execution_count": null,
   "metadata": {},
   "outputs": [],
   "source": [
    "#df_admin.max_salary[(df_admin['min_salary'] != 'unknown') & (df_admin['max_salary'] == 'unknown')] = df_admin.min_salary"
   ]
  },
  {
   "cell_type": "code",
   "execution_count": null,
   "metadata": {},
   "outputs": [],
   "source": [
    "#df_admin.iloc[12]['max_salary']"
   ]
  },
  {
   "cell_type": "code",
   "execution_count": 80,
   "metadata": {},
   "outputs": [],
   "source": [
    "min_salaryValued = df_admin['min_salary'].unique()[1:]"
   ]
  },
  {
   "cell_type": "code",
   "execution_count": 81,
   "metadata": {},
   "outputs": [
    {
     "data": {
      "text/plain": [
       "93600.0"
      ]
     },
     "execution_count": 81,
     "metadata": {},
     "output_type": "execute_result"
    },
    {
     "data": {
      "text/plain": [
       "38480.0"
      ]
     },
     "execution_count": 81,
     "metadata": {},
     "output_type": "execute_result"
    },
    {
     "data": {
      "text/plain": [
       "56249.0"
      ]
     },
     "execution_count": 81,
     "metadata": {},
     "output_type": "execute_result"
    }
   ],
   "source": [
    "minMax = min_salaryValued.max()\n",
    "minMin = min_salaryValued.min()\n",
    "minAver = round(min_salaryValued.mean(),0)\n",
    "minMax\n",
    "minMin\n",
    "minAver"
   ]
  },
  {
   "cell_type": "code",
   "execution_count": 82,
   "metadata": {},
   "outputs": [
    {
     "data": {
      "text/plain": [
       "94127.0"
      ]
     },
     "execution_count": 82,
     "metadata": {},
     "output_type": "execute_result"
    },
    {
     "data": {
      "text/plain": [
       "45760.0"
      ]
     },
     "execution_count": 82,
     "metadata": {},
     "output_type": "execute_result"
    },
    {
     "data": {
      "text/plain": [
       "65981.0"
      ]
     },
     "execution_count": 82,
     "metadata": {},
     "output_type": "execute_result"
    }
   ],
   "source": [
    "max_salaryValued = df_admin['max_salary'].unique()[1:]\n",
    "maxMax = max_salaryValued.max()\n",
    "maxMin = max_salaryValued.min()\n",
    "maxAver = round(max_salaryValued.mean(),0)\n",
    "maxMax\n",
    "maxMin\n",
    "maxAver"
   ]
  },
  {
   "cell_type": "code",
   "execution_count": null,
   "metadata": {},
   "outputs": [],
   "source": []
  },
  {
   "cell_type": "code",
   "execution_count": 84,
   "metadata": {},
   "outputs": [
    {
     "data": {
      "text/html": [
       "<div>\n",
       "<style scoped>\n",
       "    .dataframe tbody tr th:only-of-type {\n",
       "        vertical-align: middle;\n",
       "    }\n",
       "\n",
       "    .dataframe tbody tr th {\n",
       "        vertical-align: top;\n",
       "    }\n",
       "\n",
       "    .dataframe thead th {\n",
       "        text-align: right;\n",
       "    }\n",
       "</style>\n",
       "<table border=\"1\" class=\"dataframe\">\n",
       "  <thead>\n",
       "    <tr style=\"text-align: right;\">\n",
       "      <th></th>\n",
       "      <th>job_title</th>\n",
       "      <th>job_link</th>\n",
       "      <th>job_advertiser</th>\n",
       "      <th>location</th>\n",
       "      <th>released_time</th>\n",
       "      <th>classification</th>\n",
       "      <th>time</th>\n",
       "      <th>area</th>\n",
       "      <th>salary</th>\n",
       "      <th>subclassification</th>\n",
       "      <th>min_salary</th>\n",
       "      <th>max_salary</th>\n",
       "    </tr>\n",
       "  </thead>\n",
       "  <tbody>\n",
       "    <tr>\n",
       "      <td>0</td>\n",
       "      <td>Administrator</td>\n",
       "      <td>https://www.seek.co.nz/job/50582301?type=promo...</td>\n",
       "      <td>Private Advertiser</td>\n",
       "      <td>Bay of Plenty</td>\n",
       "      <td>Featured,at,Private Advertiser</td>\n",
       "      <td>Administration &amp; Office Support</td>\n",
       "      <td>0</td>\n",
       "      <td>Tauranga</td>\n",
       "      <td>None</td>\n",
       "      <td>Office Management</td>\n",
       "      <td>unknown</td>\n",
       "      <td>unknown</td>\n",
       "    </tr>\n",
       "    <tr>\n",
       "      <td>1</td>\n",
       "      <td>Receptionist</td>\n",
       "      <td>https://www.seek.co.nz/job/50620889?type=promo...</td>\n",
       "      <td>Avenues Orthodontics</td>\n",
       "      <td>Bay of Plenty</td>\n",
       "      <td>Featured,at</td>\n",
       "      <td>Administration &amp; Office Support</td>\n",
       "      <td>0</td>\n",
       "      <td>Tauranga</td>\n",
       "      <td>None</td>\n",
       "      <td>Receptionists</td>\n",
       "      <td>unknown</td>\n",
       "      <td>unknown</td>\n",
       "    </tr>\n",
       "    <tr>\n",
       "      <td>2</td>\n",
       "      <td>Prosecutions Support Officer</td>\n",
       "      <td>https://www.seek.co.nz/job/50622169?type=stand...</td>\n",
       "      <td>New Zealand Police</td>\n",
       "      <td>Auckland</td>\n",
       "      <td>4d ago,at</td>\n",
       "      <td>Administration &amp; Office Support</td>\n",
       "      <td>4</td>\n",
       "      <td>None</td>\n",
       "      <td>None</td>\n",
       "      <td>Other</td>\n",
       "      <td>unknown</td>\n",
       "      <td>unknown</td>\n",
       "    </tr>\n",
       "    <tr>\n",
       "      <td>3</td>\n",
       "      <td>Early Childhood Centre Administrator</td>\n",
       "      <td>https://www.seek.co.nz/job/50639620?type=stand...</td>\n",
       "      <td>Kew Pacific Island Early Learning Centre</td>\n",
       "      <td>Southland</td>\n",
       "      <td>1h ago,at</td>\n",
       "      <td>Administration &amp; Office Support</td>\n",
       "      <td>0</td>\n",
       "      <td>Invercargill</td>\n",
       "      <td>None</td>\n",
       "      <td>Administrative Assistants</td>\n",
       "      <td>unknown</td>\n",
       "      <td>unknown</td>\n",
       "    </tr>\n",
       "    <tr>\n",
       "      <td>4</td>\n",
       "      <td>Business Support Administrator</td>\n",
       "      <td>https://www.seek.co.nz/job/50622432?type=stand...</td>\n",
       "      <td>Private Advertiser</td>\n",
       "      <td>Canterbury</td>\n",
       "      <td>4d ago,at,Private Advertiser</td>\n",
       "      <td>Administration &amp; Office Support</td>\n",
       "      <td>4</td>\n",
       "      <td>Christchurch</td>\n",
       "      <td>None</td>\n",
       "      <td>Client &amp; Sales Administration</td>\n",
       "      <td>unknown</td>\n",
       "      <td>unknown</td>\n",
       "    </tr>\n",
       "    <tr>\n",
       "      <td>5</td>\n",
       "      <td>Support Officer</td>\n",
       "      <td>https://www.seek.co.nz/job/50640393?type=stand...</td>\n",
       "      <td>Ministry for Primary Industries</td>\n",
       "      <td>Northland</td>\n",
       "      <td>9m ago,at</td>\n",
       "      <td>Administration &amp; Office Support</td>\n",
       "      <td>0</td>\n",
       "      <td>Whangarei</td>\n",
       "      <td>None</td>\n",
       "      <td>Administrative Assistants</td>\n",
       "      <td>unknown</td>\n",
       "      <td>unknown</td>\n",
       "    </tr>\n",
       "    <tr>\n",
       "      <td>6</td>\n",
       "      <td>Support Officer</td>\n",
       "      <td>https://www.seek.co.nz/job/50615674?type=stand...</td>\n",
       "      <td>Ministry of Business, Innovation and Employment</td>\n",
       "      <td>Wellington</td>\n",
       "      <td>5d ago,at</td>\n",
       "      <td>Administration &amp; Office Support</td>\n",
       "      <td>5</td>\n",
       "      <td>Wellington Central</td>\n",
       "      <td>None</td>\n",
       "      <td>Other</td>\n",
       "      <td>unknown</td>\n",
       "      <td>unknown</td>\n",
       "    </tr>\n",
       "    <tr>\n",
       "      <td>7</td>\n",
       "      <td>office administrator</td>\n",
       "      <td>https://www.seek.co.nz/job/50640166?type=stand...</td>\n",
       "      <td>Hepburn Electrical Ltd</td>\n",
       "      <td>Bay of Plenty</td>\n",
       "      <td>7m ago,at</td>\n",
       "      <td>Administration &amp; Office Support</td>\n",
       "      <td>0</td>\n",
       "      <td>Rotorua</td>\n",
       "      <td>None</td>\n",
       "      <td>Administrative Assistants</td>\n",
       "      <td>unknown</td>\n",
       "      <td>unknown</td>\n",
       "    </tr>\n",
       "    <tr>\n",
       "      <td>8</td>\n",
       "      <td>Office Administrator</td>\n",
       "      <td>https://www.seek.co.nz/job/50639248?type=stand...</td>\n",
       "      <td>Webster Holland Ltd</td>\n",
       "      <td>Bay of Plenty</td>\n",
       "      <td>2h ago,at</td>\n",
       "      <td>Administration &amp; Office Support</td>\n",
       "      <td>0</td>\n",
       "      <td>Tauranga</td>\n",
       "      <td>None</td>\n",
       "      <td>Administrative Assistants</td>\n",
       "      <td>unknown</td>\n",
       "      <td>unknown</td>\n",
       "    </tr>\n",
       "    <tr>\n",
       "      <td>9</td>\n",
       "      <td>Administration Officer</td>\n",
       "      <td>https://www.seek.co.nz/job/50629393?type=stand...</td>\n",
       "      <td>New Zealand Police</td>\n",
       "      <td>Canterbury</td>\n",
       "      <td>3d ago,at</td>\n",
       "      <td>Administration &amp; Office Support</td>\n",
       "      <td>3</td>\n",
       "      <td>None</td>\n",
       "      <td>None</td>\n",
       "      <td>Other</td>\n",
       "      <td>unknown</td>\n",
       "      <td>unknown</td>\n",
       "    </tr>\n",
       "    <tr>\n",
       "      <td>10</td>\n",
       "      <td>Administration Officer</td>\n",
       "      <td>https://www.seek.co.nz/job/50600186?type=stand...</td>\n",
       "      <td>Department of Conservation</td>\n",
       "      <td>West Coast</td>\n",
       "      <td>7d ago,at</td>\n",
       "      <td>Administration &amp; Office Support</td>\n",
       "      <td>7</td>\n",
       "      <td>Rest of West Coast</td>\n",
       "      <td>None</td>\n",
       "      <td>Administrative Assistants</td>\n",
       "      <td>unknown</td>\n",
       "      <td>unknown</td>\n",
       "    </tr>\n",
       "    <tr>\n",
       "      <td>11</td>\n",
       "      <td>Data Entry</td>\n",
       "      <td>https://www.seek.co.nz/job/50616188?type=stand...</td>\n",
       "      <td>Triple One Care</td>\n",
       "      <td>Tasman</td>\n",
       "      <td>5d ago,at</td>\n",
       "      <td>Administration &amp; Office Support</td>\n",
       "      <td>5</td>\n",
       "      <td>Nelson</td>\n",
       "      <td>None</td>\n",
       "      <td>Data Entry &amp; Word Processing</td>\n",
       "      <td>unknown</td>\n",
       "      <td>unknown</td>\n",
       "    </tr>\n",
       "    <tr>\n",
       "      <td>12</td>\n",
       "      <td>Office Admin Assistant (10hrs per week)</td>\n",
       "      <td>https://www.seek.co.nz/job/50597141?type=stand...</td>\n",
       "      <td>UIV Limited - Premier Insulation North Central</td>\n",
       "      <td>Auckland</td>\n",
       "      <td>8d ago,at</td>\n",
       "      <td>unknown</td>\n",
       "      <td>8</td>\n",
       "      <td>Manukau &amp; East Auckland</td>\n",
       "      <td>$20 per hour</td>\n",
       "      <td>None</td>\n",
       "      <td>41600</td>\n",
       "      <td>unknown</td>\n",
       "    </tr>\n",
       "    <tr>\n",
       "      <td>13</td>\n",
       "      <td>Office Administrator</td>\n",
       "      <td>https://www.seek.co.nz/job/50632818?type=stand...</td>\n",
       "      <td>Wraight and Associates Ltd.</td>\n",
       "      <td>Wellington</td>\n",
       "      <td>3d ago,at</td>\n",
       "      <td>Administration &amp; Office Support</td>\n",
       "      <td>3</td>\n",
       "      <td>Wellington Central</td>\n",
       "      <td>None</td>\n",
       "      <td>Office Management</td>\n",
       "      <td>unknown</td>\n",
       "      <td>unknown</td>\n",
       "    </tr>\n",
       "    <tr>\n",
       "      <td>14</td>\n",
       "      <td>Office Administrator</td>\n",
       "      <td>https://www.seek.co.nz/job/50632185?type=stand...</td>\n",
       "      <td>Morgan &amp; Pollard Landscapes Ltd</td>\n",
       "      <td>Canterbury</td>\n",
       "      <td>3d ago,at</td>\n",
       "      <td>Administration &amp; Office Support</td>\n",
       "      <td>3</td>\n",
       "      <td>Rest of Canterbury</td>\n",
       "      <td>None</td>\n",
       "      <td>Administrative Assistants</td>\n",
       "      <td>unknown</td>\n",
       "      <td>unknown</td>\n",
       "    </tr>\n",
       "    <tr>\n",
       "      <td>15</td>\n",
       "      <td>Customer Service Officer</td>\n",
       "      <td>https://www.seek.co.nz/job/50614282?type=stand...</td>\n",
       "      <td>CM Trailer Parts</td>\n",
       "      <td>Canterbury</td>\n",
       "      <td>5d ago,at</td>\n",
       "      <td>Administration &amp; Office Support</td>\n",
       "      <td>5</td>\n",
       "      <td>Timaru &amp; South Canterbury</td>\n",
       "      <td>None</td>\n",
       "      <td>Client &amp; Sales Administration</td>\n",
       "      <td>unknown</td>\n",
       "      <td>unknown</td>\n",
       "    </tr>\n",
       "    <tr>\n",
       "      <td>16</td>\n",
       "      <td>Administration Assistant - Mt Wellington</td>\n",
       "      <td>https://www.seek.co.nz/job/50638817?type=stand...</td>\n",
       "      <td>Harvey Norman</td>\n",
       "      <td>Auckland</td>\n",
       "      <td>4h ago,at</td>\n",
       "      <td>Administration &amp; Office Support</td>\n",
       "      <td>0</td>\n",
       "      <td>Auckland Central</td>\n",
       "      <td>None</td>\n",
       "      <td>Administrative Assistants</td>\n",
       "      <td>unknown</td>\n",
       "      <td>unknown</td>\n",
       "    </tr>\n",
       "    <tr>\n",
       "      <td>17</td>\n",
       "      <td>Part-time Health &amp; Disability Administrative A...</td>\n",
       "      <td>https://www.seek.co.nz/job/50610748?type=stand...</td>\n",
       "      <td>LIFEWISE</td>\n",
       "      <td>Auckland</td>\n",
       "      <td>6d ago,at</td>\n",
       "      <td>unknown</td>\n",
       "      <td>6</td>\n",
       "      <td>Auckland Central</td>\n",
       "      <td>$20 - $24.99 per hour</td>\n",
       "      <td>None</td>\n",
       "      <td>41600</td>\n",
       "      <td>51979.2</td>\n",
       "    </tr>\n",
       "    <tr>\n",
       "      <td>18</td>\n",
       "      <td>Office Coordinator, Whangarei Youth Space</td>\n",
       "      <td>https://www.seek.co.nz/job/50633756?type=stand...</td>\n",
       "      <td>Whangarei Youth Space</td>\n",
       "      <td>Northland</td>\n",
       "      <td>3d ago,at</td>\n",
       "      <td>Administration &amp; Office Support</td>\n",
       "      <td>3</td>\n",
       "      <td>Whangarei</td>\n",
       "      <td>None</td>\n",
       "      <td>Administrative Assistants</td>\n",
       "      <td>unknown</td>\n",
       "      <td>unknown</td>\n",
       "    </tr>\n",
       "    <tr>\n",
       "      <td>19</td>\n",
       "      <td>Administrator</td>\n",
       "      <td>https://www.seek.co.nz/job/50604829?type=stand...</td>\n",
       "      <td>Private Advertiser</td>\n",
       "      <td>Manawatu</td>\n",
       "      <td>7d ago,at,Private Advertiser</td>\n",
       "      <td>Administration &amp; Office Support</td>\n",
       "      <td>7</td>\n",
       "      <td>Rest of Manawatu</td>\n",
       "      <td>None</td>\n",
       "      <td>Other</td>\n",
       "      <td>unknown</td>\n",
       "      <td>unknown</td>\n",
       "    </tr>\n",
       "  </tbody>\n",
       "</table>\n",
       "</div>"
      ],
      "text/plain": [
       "                                            job_title  \\\n",
       "0                                       Administrator   \n",
       "1                                        Receptionist   \n",
       "2                        Prosecutions Support Officer   \n",
       "3                Early Childhood Centre Administrator   \n",
       "4                      Business Support Administrator   \n",
       "5                                     Support Officer   \n",
       "6                                     Support Officer   \n",
       "7                                office administrator   \n",
       "8                                Office Administrator   \n",
       "9                              Administration Officer   \n",
       "10                             Administration Officer   \n",
       "11                                         Data Entry   \n",
       "12            Office Admin Assistant (10hrs per week)   \n",
       "13                               Office Administrator   \n",
       "14                               Office Administrator   \n",
       "15                           Customer Service Officer   \n",
       "16           Administration Assistant - Mt Wellington   \n",
       "17  Part-time Health & Disability Administrative A...   \n",
       "18          Office Coordinator, Whangarei Youth Space   \n",
       "19                                      Administrator   \n",
       "\n",
       "                                             job_link  \\\n",
       "0   https://www.seek.co.nz/job/50582301?type=promo...   \n",
       "1   https://www.seek.co.nz/job/50620889?type=promo...   \n",
       "2   https://www.seek.co.nz/job/50622169?type=stand...   \n",
       "3   https://www.seek.co.nz/job/50639620?type=stand...   \n",
       "4   https://www.seek.co.nz/job/50622432?type=stand...   \n",
       "5   https://www.seek.co.nz/job/50640393?type=stand...   \n",
       "6   https://www.seek.co.nz/job/50615674?type=stand...   \n",
       "7   https://www.seek.co.nz/job/50640166?type=stand...   \n",
       "8   https://www.seek.co.nz/job/50639248?type=stand...   \n",
       "9   https://www.seek.co.nz/job/50629393?type=stand...   \n",
       "10  https://www.seek.co.nz/job/50600186?type=stand...   \n",
       "11  https://www.seek.co.nz/job/50616188?type=stand...   \n",
       "12  https://www.seek.co.nz/job/50597141?type=stand...   \n",
       "13  https://www.seek.co.nz/job/50632818?type=stand...   \n",
       "14  https://www.seek.co.nz/job/50632185?type=stand...   \n",
       "15  https://www.seek.co.nz/job/50614282?type=stand...   \n",
       "16  https://www.seek.co.nz/job/50638817?type=stand...   \n",
       "17  https://www.seek.co.nz/job/50610748?type=stand...   \n",
       "18  https://www.seek.co.nz/job/50633756?type=stand...   \n",
       "19  https://www.seek.co.nz/job/50604829?type=stand...   \n",
       "\n",
       "                                     job_advertiser       location  \\\n",
       "0                                Private Advertiser  Bay of Plenty   \n",
       "1                              Avenues Orthodontics  Bay of Plenty   \n",
       "2                                New Zealand Police       Auckland   \n",
       "3          Kew Pacific Island Early Learning Centre      Southland   \n",
       "4                                Private Advertiser     Canterbury   \n",
       "5                   Ministry for Primary Industries      Northland   \n",
       "6   Ministry of Business, Innovation and Employment     Wellington   \n",
       "7                            Hepburn Electrical Ltd  Bay of Plenty   \n",
       "8                               Webster Holland Ltd  Bay of Plenty   \n",
       "9                                New Zealand Police     Canterbury   \n",
       "10                       Department of Conservation     West Coast   \n",
       "11                                  Triple One Care         Tasman   \n",
       "12   UIV Limited - Premier Insulation North Central       Auckland   \n",
       "13                      Wraight and Associates Ltd.     Wellington   \n",
       "14                  Morgan & Pollard Landscapes Ltd     Canterbury   \n",
       "15                                 CM Trailer Parts     Canterbury   \n",
       "16                                    Harvey Norman       Auckland   \n",
       "17                                         LIFEWISE       Auckland   \n",
       "18                            Whangarei Youth Space      Northland   \n",
       "19                               Private Advertiser       Manawatu   \n",
       "\n",
       "                     released_time                   classification  time  \\\n",
       "0   Featured,at,Private Advertiser  Administration & Office Support     0   \n",
       "1                      Featured,at  Administration & Office Support     0   \n",
       "2                        4d ago,at  Administration & Office Support     4   \n",
       "3                        1h ago,at  Administration & Office Support     0   \n",
       "4     4d ago,at,Private Advertiser  Administration & Office Support     4   \n",
       "5                        9m ago,at  Administration & Office Support     0   \n",
       "6                        5d ago,at  Administration & Office Support     5   \n",
       "7                        7m ago,at  Administration & Office Support     0   \n",
       "8                        2h ago,at  Administration & Office Support     0   \n",
       "9                        3d ago,at  Administration & Office Support     3   \n",
       "10                       7d ago,at  Administration & Office Support     7   \n",
       "11                       5d ago,at  Administration & Office Support     5   \n",
       "12                       8d ago,at                          unknown     8   \n",
       "13                       3d ago,at  Administration & Office Support     3   \n",
       "14                       3d ago,at  Administration & Office Support     3   \n",
       "15                       5d ago,at  Administration & Office Support     5   \n",
       "16                       4h ago,at  Administration & Office Support     0   \n",
       "17                       6d ago,at                          unknown     6   \n",
       "18                       3d ago,at  Administration & Office Support     3   \n",
       "19    7d ago,at,Private Advertiser  Administration & Office Support     7   \n",
       "\n",
       "                         area                 salary  \\\n",
       "0                    Tauranga                   None   \n",
       "1                    Tauranga                   None   \n",
       "2                        None                   None   \n",
       "3                Invercargill                   None   \n",
       "4                Christchurch                   None   \n",
       "5                   Whangarei                   None   \n",
       "6          Wellington Central                   None   \n",
       "7                     Rotorua                   None   \n",
       "8                    Tauranga                   None   \n",
       "9                        None                   None   \n",
       "10         Rest of West Coast                   None   \n",
       "11                     Nelson                   None   \n",
       "12    Manukau & East Auckland           $20 per hour   \n",
       "13         Wellington Central                   None   \n",
       "14         Rest of Canterbury                   None   \n",
       "15  Timaru & South Canterbury                   None   \n",
       "16           Auckland Central                   None   \n",
       "17           Auckland Central  $20 - $24.99 per hour   \n",
       "18                  Whangarei                   None   \n",
       "19           Rest of Manawatu                   None   \n",
       "\n",
       "                subclassification min_salary max_salary  \n",
       "0               Office Management    unknown    unknown  \n",
       "1                   Receptionists    unknown    unknown  \n",
       "2                           Other    unknown    unknown  \n",
       "3       Administrative Assistants    unknown    unknown  \n",
       "4   Client & Sales Administration    unknown    unknown  \n",
       "5       Administrative Assistants    unknown    unknown  \n",
       "6                           Other    unknown    unknown  \n",
       "7       Administrative Assistants    unknown    unknown  \n",
       "8       Administrative Assistants    unknown    unknown  \n",
       "9                           Other    unknown    unknown  \n",
       "10      Administrative Assistants    unknown    unknown  \n",
       "11   Data Entry & Word Processing    unknown    unknown  \n",
       "12                           None      41600    unknown  \n",
       "13              Office Management    unknown    unknown  \n",
       "14      Administrative Assistants    unknown    unknown  \n",
       "15  Client & Sales Administration    unknown    unknown  \n",
       "16      Administrative Assistants    unknown    unknown  \n",
       "17                           None      41600    51979.2  \n",
       "18      Administrative Assistants    unknown    unknown  \n",
       "19                          Other    unknown    unknown  "
      ]
     },
     "execution_count": 84,
     "metadata": {},
     "output_type": "execute_result"
    }
   ],
   "source": [
    "df_admin.head(20)"
   ]
  },
  {
   "cell_type": "code",
   "execution_count": null,
   "metadata": {},
   "outputs": [],
   "source": [
    "df_admin.to_excel('NZ_Admin_JOBS1.xlsx')"
   ]
  }
 ],
 "metadata": {
  "kernelspec": {
   "display_name": "Python 3",
   "language": "python",
   "name": "python3"
  },
  "language_info": {
   "codemirror_mode": {
    "name": "ipython",
    "version": 3
   },
   "file_extension": ".py",
   "mimetype": "text/x-python",
   "name": "python",
   "nbconvert_exporter": "python",
   "pygments_lexer": "ipython3",
   "version": "3.7.4"
  }
 },
 "nbformat": 4,
 "nbformat_minor": 2
}
